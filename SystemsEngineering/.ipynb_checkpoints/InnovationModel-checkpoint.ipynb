{
 "cells": [
  {
   "cell_type": "code",
   "execution_count": 2,
   "id": "8eb7ea9c-1983-4d50-9686-2477ef4b4dae",
   "metadata": {},
   "outputs": [],
   "source": [
    "# sudo apt install graphviz\n",
    "# pip install pandas openpyxl openai graphviz\n",
    "import pandas as pd\n",
    "\n",
    "from graphviz import Digraph\n",
    "from openai import AzureOpenAI"
   ]
  },
  {
   "cell_type": "code",
   "execution_count": 6,
   "id": "54921fc3-0cfb-47d2-9b39-5187648cc240",
   "metadata": {},
   "outputs": [],
   "source": [
    "api_version = \"2023-07-01-preview\"\n",
    "api_key = \"fb2a1f252f6547fcad7432ecd52cb56d\"\n",
    "api_endpoint = \"https://ics-rd-openai.openai.azure.com/\"\n",
    "completions_model = \"CVX_GPT4\"\n",
    "\n",
    "deployment_client = AzureOpenAI(\n",
    "    api_version=api_version,\n",
    "    # https://learn.microsoft.com/en-us/azure/cognitive-services/openai/how-to/create-resource?pivots=web-portal#create-a-resource\n",
    "    api_key=api_key,\n",
    "    azure_endpoint=api_endpoint,\n",
    "    # Navigate to the Azure OpenAI Studio to deploy a model.\n",
    "    azure_deployment=completions_model,  # e.g. gpt-35-instant\n",
    ")\n",
    "\n",
    "api_key_long = \"ab0bee340fc54926917c14a43b3c4cd6\"\n",
    "completions_model_long = \"GPT4-32K\"\n",
    "\n",
    "deployment_client_long = AzureOpenAI(\n",
    "    api_version=api_version,\n",
    "    # https://learn.microsoft.com/en-us/azure/cognitive-services/openai/how-to/create-resource?pivots=web-portal#create-a-resource\n",
    "    api_key=api_key_long,\n",
    "    azure_endpoint=api_endpoint,\n",
    "    # Navigate to the Azure OpenAI Studio to deploy a model.\n",
    "    azure_deployment=completions_model_long,  # e.g. gpt-35-instant\n",
    ")"
   ]
  },
  {
   "cell_type": "code",
   "execution_count": 5,
   "id": "fdc76cce-5db3-4d29-8111-a51d1afa4c50",
   "metadata": {},
   "outputs": [],
   "source": [
    "def insert_dash(text):\n",
    "    if len(text) < 2:\n",
    "        return text\n",
    "    else:\n",
    "        return text[0] + '-' + text[1:]\n",
    "\n",
    "# Example Azure OpenAI conversation\n",
    "def get_conversation(prompt, deployment_client):\n",
    "    messages =[\n",
    "        {\n",
    "            \"role\": \"system\",  \"content\": \"You are a helpful assistant and expert systems engineer with many years of experience with systems theoritic process analysis.\",\n",
    "            \"role\": \"user\",  \"content\": prompt,\n",
    "        },\n",
    "    ]\n",
    "\n",
    "    completion = deployment_client.chat.completions.create(\n",
    "        model=\"<ignored>\",\n",
    "        messages=messages,\n",
    "    )\n",
    "    # Extracting the content from the first choice's message\n",
    "    message_content = completion.choices[0].message.content\n",
    "\n",
    "    # Print the message content\n",
    "    return(message_content)\n",
    "\n",
    "def write_excel(table, filename):\n",
    "    # Define the column names\n",
    "    columns = ['interaction', 'hazard condition', 'hazardous scenarios', 'associated safeguards for the interaction']\n",
    "\n",
    "    # Create a DataFrame from the table\n",
    "    df = pd.DataFrame(table, columns=columns)\n",
    "\n",
    "    # Write the DataFrame to an Excel file\n",
    "    df.to_excel(filename, index=False)"
   ]
  },
  {
   "cell_type": "code",
   "execution_count": 14,
   "id": "4fe61550-42ec-4150-bf36-6158764eb114",
   "metadata": {},
   "outputs": [],
   "source": [
    "# Create a new directed graph\n",
    "dot = Digraph()\n",
    "\n",
    "# Add nodes\n",
    "dot.node('A', 'Tech Scount')  \n",
    "dot.node('B', 'Tech Leadership Team')  \n",
    "dot.node('C', 'Strategy Team')  \n",
    "dot.node('D', 'Business Needs')  \n",
    "dot.node('E', 'Executive VC')  \n",
    "dot.node('F', 'Investment Team')  \n",
    "dot.node('G', 'Startup')  \n",
    "dot.node('H', 'VC Funding')  \n",
    "dot.node('I', 'LT')  \n",
    "dot.node('J', 'Strategic Partnership')  \n",
    "dot.node('K', 'Startup Ecosystem')  \n",
    "dot.node('L', 'Org Strategy')  \n",
    "dot.node('M', 'BU Value')  \n",
    "dot.node('N', 'Innovation/Research Scientists')  \n",
    "dot.node('O', 'R&D Manager')  \n",
    "dot.node('P', 'Advisors')  \n",
    "dot.node('Q', 'SME Functional Authority')  \n",
    "dot.node('R', 'Technology Qualification Process')  \n",
    "dot.node('S', 'Commercialization Manager')\n",
    "\n",
    "# Add edges for each directions\n",
    "dot.edges(['AB', 'BA', 'AC', 'CA', 'AG', 'GA', 'KA', 'AD', 'DA', 'AF', 'FA', 'BE', 'EB', 'HB', 'DB', 'BD', 'CE', 'CD', 'CM', 'NS', 'SN', 'SQ', 'QS',\n",
    "          'DP', 'DN', 'ND', 'DG', 'DE', 'GD', 'DI', 'DO', 'OD', 'EJ', 'JE', 'KE', 'HE', 'FK', 'KF', 'FG', 'GF', 'FJ', 'JF', 'GK', 'KG', 'HI', 'IH',\n",
    "          'IO', 'IL', 'LI', 'PI', 'NO', 'ON', 'NP', 'OP', 'PO', 'NQ', 'QN', 'QR', 'RQ', 'RM'])\n"
   ]
  },
  {
   "cell_type": "code",
   "execution_count": 15,
   "id": "3197e111-3f6f-49ce-977a-9b9410a73c51",
   "metadata": {},
   "outputs": [
    {
     "data": {
      "text/plain": [
       "'control_structure_diagram.png'"
      ]
     },
     "execution_count": 15,
     "metadata": {},
     "output_type": "execute_result"
    },
    {
     "name": "stderr",
     "output_type": "stream",
     "text": [
      "Error: no \"view\" rule for type \"image/png\" passed its test case\n",
      "       (for more information, add \"--debug=1\" on the command line)\n"
     ]
    }
   ],
   "source": [
    "# Render and save the diagram\n",
    "dot.render('control_structure_diagram', format='png', view=True)"
   ]
  },
  {
   "cell_type": "markdown",
   "id": "f6954e69-80cf-4b93-80cb-a53d6b54b1a4",
   "metadata": {},
   "source": [
    "# Iterate through graph edges to build STPA table"
   ]
  },
  {
   "cell_type": "code",
   "execution_count": null,
   "id": "1c928972-186f-4f7b-866e-7d70985ae764",
   "metadata": {},
   "outputs": [],
   "source": [
    "stpa_result_table = []\n",
    "for control_interaction in dot.edges:\n",
    "    prompt = f'''I want to use the STPA process to identify safeguards for hazardous scenarious using a control structure diagram for a new process that combines internal and external innovation for Chevron under Chevron Tech Ventures.  Here is the code to create the control structures:\n",
    "\n",
    "# Create a new directed graph  \n",
    "dot = Digraph()  \n",
    "\n",
    "# Add nodes  \n",
    "dot.node('A', 'Tech Scount')  \n",
    "dot.node('B', 'Tech Leadership Team')  \n",
    "dot.node('C', 'Strategy Team')  \n",
    "dot.node('D', 'Business Needs')  \n",
    "dot.node('E', 'Executive VC')  \n",
    "dot.node('F', 'Investment Team')  \n",
    "dot.node('G', 'Startup')  \n",
    "dot.node('H', 'VC Funding')  \n",
    "dot.node('I', 'LT')  \n",
    "dot.node('J', 'Strategic Partnership')  \n",
    "dot.node('K', 'Startup Ecosystem')  \n",
    "dot.node('L', 'Org Strategy')  \n",
    "dot.node('M', 'BU Value')  \n",
    "dot.node('N', 'Innovation/Research Scientists')  \n",
    "dot.node('O', 'R&D Manager')  \n",
    "dot.node('P', 'Advisors')  \n",
    "dot.node('Q', 'SME Functional Authority')  \n",
    "dot.node('R', 'Technology Qualification Process')  \n",
    "dot.node('S', 'Commercialization Manager')\n",
    "\t  \n",
    "Please create a table that I can paste into excel of interactions, hazard condition, hazardous scenarios, and associated safeguards for the interaction of {insert_dash(control_interaction)}.  There should be at least four hazardous scenarios as these can occur with any of the following conditions: the control occurs too fast/slow, control occurs in incorrect order, control causes a hazard, not providing the control causes the hazard.'''\n",
    "    stpa_results = get_conversation(prompt, deployment_client)\n",
    "    stpa_result_table.append(stpa_results)\n",
    "\n",
    "# create the excel file\n",
    "write_excel(stpa_result_table, 'stpa_output.xlsx')"
   ]
  },
  {
   "cell_type": "markdown",
   "id": "d81cecec-fc0a-4eae-a8e2-62a137b984ca",
   "metadata": {},
   "source": [
    "# Synthesize strategy to implement safeguards"
   ]
  },
  {
   "cell_type": "code",
   "execution_count": null,
   "id": "9cdfe989-bc97-439b-947d-3050c749c70f",
   "metadata": {},
   "outputs": [],
   "source": [
    "prompt = f'''I used the STPA process to identify safeguards for hazardous scenarious using a control structure diagram for a new process that combines internal and external innovation for Chevron under Chevron Tech Ventures.  Here is the code to create the control structures:\n",
    "\n",
    "# Create a new directed graph  \n",
    "dot = Digraph()  \n",
    "&nbsp;  \n",
    "# Add nodes  \n",
    "dot.node('A', 'Tech Scount')  \n",
    "dot.node('B', 'Tech Leadership Team')  \n",
    "dot.node('C', 'Strategy Team')  \n",
    "dot.node('D', 'Business Needs')  \n",
    "dot.node('E', 'Executive VC')  \n",
    "dot.node('F', 'Investment Team')  \n",
    "dot.node('G', 'Startup')  \n",
    "dot.node('H', 'VC Funding')  \n",
    "dot.node('I', 'LT')  \n",
    "dot.node('J', 'Strategic Partnership')  \n",
    "dot.node('K', 'Startup Ecosystem')  \n",
    "dot.node('L', 'Org Strategy')  \n",
    "dot.node('M', 'BU Value')  \n",
    "dot.node('N', 'Innovation/Research Scientists')  \n",
    "dot.node('O', 'R&D Manager')  \n",
    "dot.node('P', 'Advisors')  \n",
    "dot.node('Q', 'SME Functional Authority')  \n",
    "dot.node('R', 'Technology Qualification Process')  \n",
    "dot.node('S', 'Commercialization Manager')\n",
    "\n",
    "Here is the table of controls, hazard condition, hazard scenario, and safeguard: {stpa_result_table}\n",
    "\n",
    "\n",
    "Please create a comprehensive strategy for internal and external innovation that addresses all of the safeguards.'''\n",
    "\n",
    "safeguard_strategy = get_conversation(prompt, deployment_client_long)\n",
    "print(safeguard_strategy)"
   ]
  }
 ],
 "metadata": {
  "kernelspec": {
   "display_name": "Python 3 (ipykernel)",
   "language": "python",
   "name": "python3"
  },
  "language_info": {
   "codemirror_mode": {
    "name": "ipython",
    "version": 3
   },
   "file_extension": ".py",
   "mimetype": "text/x-python",
   "name": "python",
   "nbconvert_exporter": "python",
   "pygments_lexer": "ipython3",
   "version": "3.11.4"
  }
 },
 "nbformat": 4,
 "nbformat_minor": 5
}
