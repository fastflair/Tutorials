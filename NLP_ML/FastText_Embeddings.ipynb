{
 "cells": [
  {
   "cell_type": "markdown",
   "metadata": {},
   "source": [
    "FastText by Facebook Research has improved performance for word embeddings and text classification tasks on many datasets. It is efficient to use."
   ]
  },
  {
   "cell_type": "code",
   "execution_count": 23,
   "metadata": {},
   "outputs": [
    {
     "name": "stderr",
     "output_type": "stream",
     "text": [
      "[nltk_data] Downloading package punkt to\n",
      "[nltk_data]     C:\\Users\\shutt\\AppData\\Roaming\\nltk_data...\n",
      "[nltk_data]   Package punkt is already up-to-date!\n",
      "[nltk_data] Downloading package wordnet to\n",
      "[nltk_data]     C:\\Users\\shutt\\AppData\\Roaming\\nltk_data...\n",
      "[nltk_data]   Package wordnet is already up-to-date!\n",
      "[nltk_data] Downloading package stopwords to\n",
      "[nltk_data]     C:\\Users\\shutt\\AppData\\Roaming\\nltk_data...\n",
      "[nltk_data]   Package stopwords is already up-to-date!\n"
     ]
    }
   ],
   "source": [
    "import re\n",
    "import numpy as np\n",
    "import pandas as pd\n",
    "import matplotlib.pyplot as plt\n",
    "from string import punctuation\n",
    "\n",
    "from tensorflow.keras.preprocessing.text import Tokenizer\n",
    "from gensim.models.fasttext import FastText\n",
    "\n",
    "import nltk\n",
    "from nltk.corpus import stopwords\n",
    "from nltk.tokenize import word_tokenize\n",
    "from nltk.stem import WordNetLemmatizer\n",
    "from nltk.tokenize import sent_tokenize\n",
    "from nltk import WordPunctTokenizer\n",
    "from nltk.stem import WordNetLemmatizer\n",
    "nltk.download('punkt')\n",
    "nltk.download('wordnet')\n",
    "nltk.download('stopwords')\n",
    "en_stop = set(nltk.corpus.stopwords.words('english'))\n",
    "\n",
    "from sklearn.decomposition import PCA\n",
    "\n",
    "import wikipedia\n",
    "\n",
    "%matplotlib inline"
   ]
  },
  {
   "cell_type": "markdown",
   "metadata": {},
   "source": [
    "Scraping Wikipedia Articles.  Alternatively for files, Apache Tika is wonderful to use to read text from a variety of file formats.  OCR is supported when paired with Google's Tesseract."
   ]
  },
  {
   "cell_type": "code",
   "execution_count": 8,
   "metadata": {},
   "outputs": [],
   "source": [
    "systems_engineering = wikipedia.page(\"Systems Engineering\").content\n",
    "risk_assessment = wikipedia.page(\"Risk assessment\").content\n",
    "engineering = wikipedia.page(\"Engineering\").content\n",
    "risk_management = wikipedia.page(\"Risk Management\").content\n",
    "reliability_engineering = wikipedia.page(\"Reliability Engineering\").content\n",
    "asset_integrity_management_systems = wikipedia.page(\"Asset integrity management systems\").content\n",
    "\n",
    "systems_engineering = sent_tokenize(systems_engineering)\n",
    "risk_assessment = sent_tokenize(risk_assessment)\n",
    "risk_management = sent_tokenize(risk_management)\n",
    "reliability_engineering = sent_tokenize(reliability_engineering)\n",
    "asset_integrity_management_systems = sent_tokenize(asset_integrity_management_systems)\n",
    "\n",
    "systems_engineering.extend(risk_assessment)\n",
    "systems_engineering.extend(risk_management)\n",
    "systems_engineering.extend(reliability_engineering)\n",
    "systems_engineering.extend(asset_integrity_management_systems)"
   ]
  },
  {
   "cell_type": "code",
   "execution_count": 9,
   "metadata": {},
   "outputs": [],
   "source": [
    "stemmer = WordNetLemmatizer()\n",
    "\n",
    "def preprocess_text(document):\n",
    "        # Remove all the special characters\n",
    "        document = re.sub(r'\\W', ' ', str(document))\n",
    "\n",
    "        # remove all single characters\n",
    "        document = re.sub(r'\\s+[a-zA-Z]\\s+', ' ', document)\n",
    "\n",
    "        # Remove single characters from the start\n",
    "        document = re.sub(r'\\^[a-zA-Z]\\s+', ' ', document)\n",
    "\n",
    "        # Substituting multiple spaces with single space\n",
    "        document = re.sub(r'\\s+', ' ', document, flags=re.I)\n",
    "\n",
    "        # Removing prefixed 'b'\n",
    "        document = re.sub(r'^b\\s+', '', document)\n",
    "\n",
    "        # Converting to Lowercase\n",
    "        document = document.lower()\n",
    "\n",
    "        # Lemmatization\n",
    "        tokens = document.split()\n",
    "        tokens = [stemmer.lemmatize(word) for word in tokens]\n",
    "        tokens = [word for word in tokens if word not in en_stop]\n",
    "        tokens = [word for word in tokens if len(word) > 3]\n",
    "\n",
    "        preprocessed_text = ' '.join(tokens)\n",
    "\n",
    "        return preprocessed_text"
   ]
  },
  {
   "cell_type": "code",
   "execution_count": 12,
   "metadata": {},
   "outputs": [],
   "source": [
    "final_corpus = [preprocess_text(sentence) for sentence in systems_engineering if sentence.strip() !='']\n",
    "word_punctuation_tokenizer = nltk.WordPunctTokenizer()\n",
    "word_tokenized_corpus = [word_punctuation_tokenizer.tokenize(sent) for sent in final_corpus]"
   ]
  },
  {
   "cell_type": "markdown",
   "metadata": {},
   "source": [
    "Creating Words Representation\n",
    "We have preprocessed our corpus. Now is the time to create word representations using FastText. Let's first define the hyper-parameters for our FastText model.\n",
    "\n",
    "Here embedding_size is the size of the embedding vector. In other words, each word in our corpus will be represented as a 50-dimensional vector. The window_size is the size of the number of words occurring before and after the word based on which the word representations will be learned for the word. This might sound tricky, however in the skip-gram model we input a word to the algorithm and the output is the context words. If the window size is 40, for each input there will be 80 outputs: 40 words that occur before the input word and 40 words that occur after the input word. The word embeddings for the input word are learned using these 80 output words.\n",
    "\n",
    "The next hyper-parameter is the min_word, which specifies the minimum frequency of a word in the corpus for which the word representations will be generated. Finally, the most frequently occurring word will be down-sampled by a number specified by the down_sampling attribute."
   ]
  },
  {
   "cell_type": "code",
   "execution_count": 13,
   "metadata": {},
   "outputs": [],
   "source": [
    "embedding_size = 50\n",
    "window_size = 40\n",
    "min_word = 5\n",
    "down_sampling = 1e-2"
   ]
  },
  {
   "cell_type": "code",
   "execution_count": 16,
   "metadata": {},
   "outputs": [
    {
     "name": "stdout",
     "output_type": "stream",
     "text": [
      "Wall time: 17.2 s\n"
     ]
    }
   ],
   "source": [
    "%%time\n",
    "ft_model = FastText(word_tokenized_corpus,\n",
    "                      size=embedding_size,\n",
    "                      window=window_size,\n",
    "                      min_count=min_word,\n",
    "                      sample=down_sampling,\n",
    "                      sg=1,\n",
    "                      word_ngrams = 3,\n",
    "                      iter=100)"
   ]
  },
  {
   "cell_type": "markdown",
   "metadata": {},
   "source": [
    "Let's now see the word representation for the word \"systems\". To do so, you can use the wv method of the FastText object and pass it the name of the word inside a list."
   ]
  },
  {
   "cell_type": "code",
   "execution_count": 17,
   "metadata": {},
   "outputs": [
    {
     "name": "stdout",
     "output_type": "stream",
     "text": [
      "[ 0.13597806  0.09220635 -0.06222356  0.0316073  -0.23960795  0.17280874\n",
      " -0.19428445 -0.09530488  0.49346817  0.1960188   0.0713393   0.16190825\n",
      "  0.1970005  -0.0259989   0.07899886 -0.00771668 -0.1038752  -0.1048083\n",
      "  0.02103007 -0.04357452  0.35945314  0.18676926  0.2525946   0.00829234\n",
      " -0.10823803  0.01195557  0.17996547 -0.04393115 -0.10754419  0.09186142\n",
      "  0.15509038 -0.09414651 -0.24743828 -0.36458617  0.17319365 -0.11750047\n",
      "  0.38403282  0.18678793 -0.07452524 -0.02033769  0.10380575 -0.1377826\n",
      " -0.13280673 -0.07125853 -0.10289924  0.02281556 -0.20210987  0.05290314\n",
      "  0.00501809 -0.18288088]\n"
     ]
    }
   ],
   "source": [
    "print(ft_model.wv['systems'])"
   ]
  },
  {
   "cell_type": "markdown",
   "metadata": {},
   "source": [
    "In the output above, you can see a 50-dimensional vector for the word \"systems\"\n",
    "\n",
    "Let's now find top 5 most similar words for the words 'systems', 'engineering', 'risk', 'reliability', 'safety'.  You can chose any number of words. The following script prints the specified words along with the 5 most similar words."
   ]
  },
  {
   "cell_type": "code",
   "execution_count": 18,
   "metadata": {},
   "outputs": [
    {
     "name": "stdout",
     "output_type": "stream",
     "text": [
      "systems:['systematic', 'system', 'human', 'engineering', 'iterative']\n",
      "engineering:['system', 'course', 'reliability', 'seen', 'design']\n",
      "risk:['assessment', 'management', 'reduction', 'assessed', 'mitigation']\n",
      "reliability:['failure', 'availability', 'maintainability', 'maintenance', 'system']\n",
      "safety:['health', 'critical', 'injury', 'environmental', 'accident']\n"
     ]
    }
   ],
   "source": [
    "semantically_similar_words = {words: [item[0] for item in ft_model.wv.most_similar([words], topn=5)]\n",
    "                  for words in ['systems', 'engineering', 'risk', 'reliability', 'safety']}\n",
    "\n",
    "for k,v in semantically_similar_words.items():\n",
    "    print(k+\":\"+str(v))"
   ]
  },
  {
   "cell_type": "markdown",
   "metadata": {},
   "source": [
    "We can also find the cosine similarity between the vectors for any two words, as shown below:"
   ]
  },
  {
   "cell_type": "code",
   "execution_count": 19,
   "metadata": {},
   "outputs": [
    {
     "name": "stdout",
     "output_type": "stream",
     "text": [
      "0.12159649\n"
     ]
    }
   ],
   "source": [
    "print(ft_model.wv.similarity(w1='risk', w2='reliability'))"
   ]
  },
  {
   "cell_type": "markdown",
   "metadata": {},
   "source": [
    "Visualizing word similarities"
   ]
  },
  {
   "cell_type": "code",
   "execution_count": 21,
   "metadata": {},
   "outputs": [
    {
     "name": "stdout",
     "output_type": "stream",
     "text": [
      "['systems', 'systematic', 'system', 'human', 'engineering', 'iterative', 'engineering', 'system', 'course', 'reliability', 'seen', 'design', 'risk', 'assessment', 'management', 'reduction', 'assessed', 'mitigation', 'reliability', 'failure', 'availability', 'maintainability', 'maintenance', 'system', 'safety', 'health', 'critical', 'injury', 'environmental', 'accident']\n",
      "<class 'list'>\n",
      "30\n"
     ]
    }
   ],
   "source": [
    "all_similar_words = sum([[k] + v for k, v in semantically_similar_words.items()], [])\n",
    "\n",
    "print(all_similar_words)\n",
    "print(type(all_similar_words))\n",
    "print(len(all_similar_words))"
   ]
  },
  {
   "cell_type": "code",
   "execution_count": 22,
   "metadata": {},
   "outputs": [
    {
     "data": {
      "image/png": "[encoded data removed]",
      "text/plain": [
       "<Figure size 1296x720 with 1 Axes>"
      ]
     },
     "metadata": {
      "needs_background": "light"
     },
     "output_type": "display_data"
    }
   ],
   "source": [
    "word_vectors = ft_model.wv[all_similar_words]\n",
    "\n",
    "pca = PCA(n_components=2)\n",
    "\n",
    "p_comps = pca.fit_transform(word_vectors)\n",
    "word_names = all_similar_words\n",
    "\n",
    "plt.figure(figsize=(18, 10))\n",
    "plt.scatter(p_comps[:, 0], p_comps[:, 1], c='red')\n",
    "\n",
    "for word_names, x, y in zip(word_names, p_comps[:, 0], p_comps[:, 1]):\n",
    "    plt.annotate(word_names, xy=(x+0.06, y+0.03), xytext=(0, 0), textcoords='offset points')"
   ]
  },
  {
   "cell_type": "code",
   "execution_count": null,
   "metadata": {},
   "outputs": [],
   "source": []
  }
 ],
 "metadata": {
  "kernelspec": {
   "display_name": "Python 3",
   "language": "python",
   "name": "python3"
  },
  "language_info": {
   "codemirror_mode": {
    "name": "ipython",
    "version": 3
   },
   "file_extension": ".py",
   "mimetype": "text/x-python",
   "name": "python",
   "nbconvert_exporter": "python",
   "pygments_lexer": "ipython3",
   "version": "3.8.5"
  }
 },
 "nbformat": 4,
 "nbformat_minor": 4
}
