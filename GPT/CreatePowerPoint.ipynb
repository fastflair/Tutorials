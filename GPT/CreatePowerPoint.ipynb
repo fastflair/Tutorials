{
 "cells": [
  {
   "cell_type": "code",
   "execution_count": 1,
   "id": "96658393",
   "metadata": {},
   "outputs": [],
   "source": [
    "prompt = \"Use the python-pptx library to write code to create a powerpoint presentation on the topic of nutrition is health.  Create 5 slides with relevant images from the internet.\""
   ]
  },
  {
   "cell_type": "code",
   "execution_count": 2,
   "id": "a5babde7",
   "metadata": {},
   "outputs": [],
   "source": [
    "# First, we need to install the python-pptx library using pip.\n",
    "# You can run this command in your terminal or command prompt:\n",
    "# pip install python-pptx\n",
    "\n",
    "# Import necessary modules\n",
    "from pptx import Presentation\n",
    "from pptx.util import Inches\n",
    "import requests\n",
    "from io import BytesIO"
   ]
  },
  {
   "cell_type": "code",
   "execution_count": 4,
   "id": "875516a9",
   "metadata": {},
   "outputs": [],
   "source": [
    "# Create a new PowerPoint presentation\n",
    "prs = Presentation()\n",
    "\n",
    "# Create the first slide\n",
    "slide_1 = prs.slides.add_slide(prs.slide_layouts[0])\n",
    "title_1 = slide_1.shapes.title\n",
    "title_1.text = \"Nutrition is Health\"\n",
    "\n",
    "# Add an image to the first slide\n",
    "image_url_1 = \"https://images.pexels.com/photos/416471/pexels-photo-416471.jpeg?auto=compress&cs=tinysrgb&dpr=2&h=650&w=940\"\n",
    "image_content_1 = requests.get(image_url_1).content\n",
    "image_stream_1 = BytesIO(image_content_1)\n",
    "pic_1 = slide_1.shapes.add_picture(image_stream_1, Inches(1), Inches(1.5), width=Inches(8), height=Inches(4.5))\n",
    "\n",
    "# Create the second slide\n",
    "slide_2 = prs.slides.add_slide(prs.slide_layouts[1])\n",
    "title_2 = slide_2.shapes.title\n",
    "title_2.text = \"The Importance of Nutrients\"\n",
    "\n",
    "# Add an image to the second slide\n",
    "image_url_2 = \"https://images.pexels.com/photos/3532546/pexels-photo-3532546.jpeg?auto=compress&cs=tinysrgb&dpr=2&h=650&w=940\"\n",
    "image_content_2 = requests.get(image_url_2).content\n",
    "image_stream_2 = BytesIO(image_content_2)\n",
    "pic_2 = slide_2.shapes.add_picture(image_stream_2, Inches(1), Inches(1.5), width=Inches(8), height=Inches(4.5))\n",
    "\n",
    "# Create the third slide\n",
    "slide_3 = prs.slides.add_slide(prs.slide_layouts[1])\n",
    "title_3 = slide_3.shapes.title\n",
    "title_3.text = \"Healthy Eating Habits\"\n",
    "\n",
    "# Add an image to the third slide\n",
    "image_url_3 = \"https://images.pexels.com/photos/140019/pexels-photo-140019.jpeg?auto=compress&cs=tinysrgb&dpr=2&h=650&w=940\"\n",
    "image_content_3 = requests.get(image_url_3).content\n",
    "image_stream_3 = BytesIO(image_content_3)\n",
    "pic_3 = slide_3.shapes.add_picture(image_stream_3, Inches(1), Inches(1.5), width=Inches(8), height=Inches(4.5))\n",
    "\n",
    "# Create the fourth slide\n",
    "slide_4 = prs.slides.add_slide(prs.slide_layouts[1])\n",
    "title_4 = slide_4.shapes.title\n",
    "title_4.text = \"Benefits of a Balanced Diet\"\n",
    "\n",
    "# Add an image to the fourth slide\n",
    "image_url_4 = \"https://images.pexels.com/photos/1640772/pexels-photo-1640772.jpeg?auto=compress&cs=tinysrgb&dpr=2&h=650&w=940\"\n",
    "image_content_4 = requests.get(image_url_4).content\n",
    "image_stream_4 = BytesIO(image_content_4)\n",
    "pic_4 = slide_4.shapes.add_picture(image_stream_4, Inches(1), Inches(1.5), width=Inches(8), height=Inches(4.5))\n",
    "\n",
    "#Create the fifth slide\n",
    "slide_5 = prs.slides.add_slide(prs.slide_layouts[1])\n",
    "title_5 = slide_5.shapes.title\n",
    "title_5.text = \"The Consequences of Poor Nutrition\"\n",
    "\n",
    "#Add an image to the fifth slide\n",
    "image_url_5 = \"https://images.pexels.com/photos/1639567/pexels-photo-1639567.jpeg?auto=compress&cs=tinysrgb&dpr=2&h=650&w=940\"\n",
    "image_content_5 = requests.get(image_url_5).content\n",
    "image_stream_5 = BytesIO(image_content_5)\n",
    "pic_5 = slide_5.shapes.add_picture(image_stream_5, Inches(1), Inches(1.5), width=Inches(8), height=Inches(4.5))\n",
    "\n",
    "#Save the presentation as a PowerPoint file\n",
    "prs.save(\"Nutrition_is_Health.pptx\")"
   ]
  }
 ],
 "metadata": {
  "kernelspec": {
   "display_name": "Python 3 (ipykernel)",
   "language": "python",
   "name": "python3"
  },
  "language_info": {
   "codemirror_mode": {
    "name": "ipython",
    "version": 3
   },
   "file_extension": ".py",
   "mimetype": "text/x-python",
   "name": "python",
   "nbconvert_exporter": "python",
   "pygments_lexer": "ipython3",
   "version": "3.9.13"
  }
 },
 "nbformat": 4,
 "nbformat_minor": 5
}
