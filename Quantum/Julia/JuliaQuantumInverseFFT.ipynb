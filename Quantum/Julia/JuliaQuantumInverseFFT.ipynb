{
 "cells": [
  {
   "cell_type": "code",
   "execution_count": 1,
   "metadata": {},
   "outputs": [],
   "source": [
    "using Yao\n",
    "using FFTW, Test\n",
    "using LinearAlgebra: I"
   ]
  },
  {
   "cell_type": "code",
   "execution_count": 2,
   "metadata": {},
   "outputs": [
    {
     "data": {
      "text/plain": [
       "QFT (generic function with 1 method)"
      ]
     },
     "execution_count": 2,
     "metadata": {},
     "output_type": "execute_result"
    }
   ],
   "source": [
    "# Control-R(k) gate in block-A\n",
    "A(i::Int, j::Int, k::Int) = control([i, ], j=>shift(2π/(1<<k)))\n",
    "# block-B\n",
    "B(n::Int, i::Int) = chain(i==j ? put(i=>H) : A(j, i, j-i+1) for j = i:n)\n",
    "QFT(n::Int) = chain(n, B(n, i) for i = 1:n)"
   ]
  },
  {
   "cell_type": "code",
   "execution_count": 3,
   "metadata": {},
   "outputs": [
    {
     "data": {
      "text/plain": [
       "\u001b[36mnqubits: 5\u001b[39m\n",
       "\u001b[34m\u001b[1mchain\u001b[22m\u001b[39m\n",
       "├─ \u001b[34m\u001b[1mchain\u001b[22m\u001b[39m\n",
       "│  └─ \u001b[36m\u001b[1mput on (\u001b[22m\u001b[39m\u001b[36m\u001b[1m5\u001b[22m\u001b[39m\u001b[36m\u001b[1m)\u001b[22m\u001b[39m\n",
       "│     └─ H\n",
       "├─ \u001b[34m\u001b[1mchain\u001b[22m\u001b[39m\n",
       "│  ├─ \u001b[31m\u001b[1mcontrol(\u001b[22m\u001b[39m\u001b[31m\u001b[1m5\u001b[22m\u001b[39m\u001b[31m\u001b[1m)\u001b[22m\u001b[39m\n",
       "│  │  └─ \u001b[37m\u001b[1m(4,)\u001b[22m\u001b[39m shift(-1.5707963267948966)\n",
       "│  └─ \u001b[36m\u001b[1mput on (\u001b[22m\u001b[39m\u001b[36m\u001b[1m4\u001b[22m\u001b[39m\u001b[36m\u001b[1m)\u001b[22m\u001b[39m\n",
       "│     └─ H\n",
       "├─ \u001b[34m\u001b[1mchain\u001b[22m\u001b[39m\n",
       "│  ├─ \u001b[31m\u001b[1mcontrol(\u001b[22m\u001b[39m\u001b[31m\u001b[1m5\u001b[22m\u001b[39m\u001b[31m\u001b[1m)\u001b[22m\u001b[39m\n",
       "│  │  └─ \u001b[37m\u001b[1m(3,)\u001b[22m\u001b[39m shift(-0.7853981633974483)\n",
       "│  ├─ \u001b[31m\u001b[1mcontrol(\u001b[22m\u001b[39m\u001b[31m\u001b[1m4\u001b[22m\u001b[39m\u001b[31m\u001b[1m)\u001b[22m\u001b[39m\n",
       "│  │  └─ \u001b[37m\u001b[1m(3,)\u001b[22m\u001b[39m shift(-1.5707963267948966)\n",
       "│  └─ \u001b[36m\u001b[1mput on (\u001b[22m\u001b[39m\u001b[36m\u001b[1m3\u001b[22m\u001b[39m\u001b[36m\u001b[1m)\u001b[22m\u001b[39m\n",
       "│     └─ H\n",
       "├─ \u001b[34m\u001b[1mchain\u001b[22m\u001b[39m\n",
       "│  ├─ \u001b[31m\u001b[1mcontrol(\u001b[22m\u001b[39m\u001b[31m\u001b[1m5\u001b[22m\u001b[39m\u001b[31m\u001b[1m)\u001b[22m\u001b[39m\n",
       "│  │  └─ \u001b[37m\u001b[1m(2,)\u001b[22m\u001b[39m shift(-0.39269908169872414)\n",
       "│  ├─ \u001b[31m\u001b[1mcontrol(\u001b[22m\u001b[39m\u001b[31m\u001b[1m4\u001b[22m\u001b[39m\u001b[31m\u001b[1m)\u001b[22m\u001b[39m\n",
       "│  │  └─ \u001b[37m\u001b[1m(2,)\u001b[22m\u001b[39m shift(-0.7853981633974483)\n",
       "│  ├─ \u001b[31m\u001b[1mcontrol(\u001b[22m\u001b[39m\u001b[31m\u001b[1m3\u001b[22m\u001b[39m\u001b[31m\u001b[1m)\u001b[22m\u001b[39m\n",
       "│  │  └─ \u001b[37m\u001b[1m(2,)\u001b[22m\u001b[39m shift(-1.5707963267948966)\n",
       "│  └─ \u001b[36m\u001b[1mput on (\u001b[22m\u001b[39m\u001b[36m\u001b[1m2\u001b[22m\u001b[39m\u001b[36m\u001b[1m)\u001b[22m\u001b[39m\n",
       "│     └─ H\n",
       "└─ \u001b[34m\u001b[1mchain\u001b[22m\u001b[39m\n",
       "   ├─ \u001b[31m\u001b[1mcontrol(\u001b[22m\u001b[39m\u001b[31m\u001b[1m5\u001b[22m\u001b[39m\u001b[31m\u001b[1m)\u001b[22m\u001b[39m\n",
       "   │  └─ \u001b[37m\u001b[1m(1,)\u001b[22m\u001b[39m shift(-0.19634954084936207)\n",
       "   ├─ \u001b[31m\u001b[1mcontrol(\u001b[22m\u001b[39m\u001b[31m\u001b[1m4\u001b[22m\u001b[39m\u001b[31m\u001b[1m)\u001b[22m\u001b[39m\n",
       "   │  └─ \u001b[37m\u001b[1m(1,)\u001b[22m\u001b[39m shift(-0.39269908169872414)\n",
       "   ├─ \u001b[31m\u001b[1mcontrol(\u001b[22m\u001b[39m\u001b[31m\u001b[1m3\u001b[22m\u001b[39m\u001b[31m\u001b[1m)\u001b[22m\u001b[39m\n",
       "   │  └─ \u001b[37m\u001b[1m(1,)\u001b[22m\u001b[39m shift(-0.7853981633974483)\n",
       "   ├─ \u001b[31m\u001b[1mcontrol(\u001b[22m\u001b[39m\u001b[31m\u001b[1m2\u001b[22m\u001b[39m\u001b[31m\u001b[1m)\u001b[22m\u001b[39m\n",
       "   │  └─ \u001b[37m\u001b[1m(1,)\u001b[22m\u001b[39m shift(-1.5707963267948966)\n",
       "   └─ \u001b[36m\u001b[1mput on (\u001b[22m\u001b[39m\u001b[36m\u001b[1m1\u001b[22m\u001b[39m\u001b[36m\u001b[1m)\u001b[22m\u001b[39m\n",
       "      └─ H\n"
      ]
     },
     "execution_count": 3,
     "metadata": {},
     "output_type": "execute_result"
    }
   ],
   "source": [
    "# define QFT and IQFT block.\n",
    "num_bit = 5\n",
    "qft = QFT(num_bit)\n",
    "iqft = qft'"
   ]
  },
  {
   "cell_type": "code",
   "execution_count": 4,
   "metadata": {},
   "outputs": [
    {
     "data": {
      "text/plain": [
       "\u001b[32m\u001b[1mTest Passed\u001b[22m\u001b[39m"
      ]
     },
     "execution_count": 4,
     "metadata": {},
     "output_type": "execute_result"
    }
   ],
   "source": [
    "@test chain(num_bit, qft, iqft) |> mat ≈ I"
   ]
  },
  {
   "cell_type": "code",
   "execution_count": 5,
   "metadata": {},
   "outputs": [
    {
     "data": {
      "text/plain": [
       "32-element Array{Complex{Float64},1}:\n",
       "    0.03705176264223667 + 0.07030158690307886im\n",
       "   -0.06493281009430363 + 0.031000617317167127im\n",
       "    0.02335638671030601 + 0.019114569528695835im\n",
       "   -0.03833297350889918 + 0.019960964407197693im\n",
       "     0.3325235683528705 + 0.0043371507926670575im\n",
       "   -0.08558421609328952 + 0.23013305591893182im\n",
       "    0.04444952877132521 - 0.15040260530916286im\n",
       "     0.2116426182903454 - 0.034687013429928096im\n",
       "    -0.3019160059678119 - 0.04412890641267696im\n",
       "   -0.15755670670518498 + 0.011480824161192471im\n",
       "    0.08113386527491738 + 0.13247728763076158im\n",
       "    -0.1724713637245056 + 0.32747854377382934im\n",
       "    -0.0850955999017533 + 0.23427392189521354im\n",
       "                        ⋮\n",
       "    0.11833239905401066 - 0.029675122362028464im\n",
       "  -0.013428018110239514 - 0.06923936189691048im\n",
       "    0.04838599006519841 + 0.07001201489304615im\n",
       "    0.06155631141063008 - 0.013101548081074213im\n",
       "    0.17498523248931214 - 0.014251017141044719im\n",
       "    -0.1049315501933095 - 0.16490085209430294im\n",
       " -0.0041748957240660646 - 0.08619836974848256im\n",
       "   -0.13208727834102574 + 0.09651879527243498im\n",
       "   -0.12329726744194952 - 0.15592633601162526im\n",
       "    0.01943338879661698 - 0.13930128633016348im\n",
       "   0.015704344424561662 - 0.08260662593825327im\n",
       "    0.11092949819425532 + 0.13278578318998518im"
      ]
     },
     "execution_count": 5,
     "metadata": {},
     "output_type": "execute_result"
    }
   ],
   "source": [
    "# define a register and get its vector representation\n",
    "reg = rand_state(num_bit)\n",
    "rv = reg |> statevec |> copy"
   ]
  },
  {
   "cell_type": "code",
   "execution_count": 10,
   "metadata": {},
   "outputs": [
    {
     "data": {
      "text/plain": [
       "\u001b[32m\u001b[1mTest Passed\u001b[22m\u001b[39m"
      ]
     },
     "execution_count": 10,
     "metadata": {},
     "output_type": "execute_result"
    }
   ],
   "source": [
    "# test fft\n",
    "reg_qft = copy(reg) |> invorder! |> qft\n",
    "kv = ifft(rv)*sqrt(length(rv))\n",
    "@test reg_qft |> statevec ≈ kv"
   ]
  },
  {
   "cell_type": "code",
   "execution_count": 13,
   "metadata": {},
   "outputs": [
    {
     "data": {
      "text/plain": [
       "32-element Array{Complex{Float64},1}:\n",
       "   0.058190699461627186 + 0.08542111795583401im\n",
       "    0.16628896772457744 - 0.010833839739424572im\n",
       "   0.039866392874092604 - 0.1524475742636332im\n",
       "    0.05146373373014503 + 0.11860107344730701im\n",
       "    0.10302935053604129 + 0.02995458865748594im\n",
       "   -0.16331075831081462 + 0.12908035356381084im\n",
       "    0.04976517452553545 + 0.24112223772925911im\n",
       "   -0.08400735531406955 + 0.0065397545790106424im\n",
       "   -0.08696263370704814 + 0.1584616853827835im\n",
       "    0.08582154305767468 - 0.006891507052186565im\n",
       "    0.11522004215030845 - 0.22902746585350553im\n",
       "   -0.12480221801615386 - 0.16509644984830352im\n",
       "   -0.12367835272775465 + 0.16734062622828771im\n",
       "                        ⋮\n",
       "   -0.22414765685136845 - 0.029986625189387175im\n",
       "    0.10619522195307357 + 0.05460858098882705im\n",
       "  -0.011761447816434695 + 0.09464920346599219im\n",
       "    0.11886797686373077 - 0.19263875118112062im\n",
       "    0.03929985058015911 - 0.027822589974935745im\n",
       "    0.04206064792322077 + 0.08814945011582993im\n",
       " -0.0058179205968365245 + 0.10836466831025453im\n",
       "    0.06121547996939483 - 0.12898702162919046im\n",
       "   0.028080445611233563 - 0.17607215008851673im\n",
       "   -0.19490141167593378 + 0.20056213488618083im\n",
       "     0.1769803929681952 + 0.22881311182606595im\n",
       "   -0.21136308760600658 - 0.13826971661413934im"
      ]
     },
     "execution_count": 13,
     "metadata": {},
     "output_type": "execute_result"
    }
   ],
   "source": [
    "# test ifft\n",
    "reg_iqft = copy(reg) |>iqft\n",
    "kv = fft(rv)/sqrt(length(rv))"
   ]
  },
  {
   "cell_type": "code",
   "execution_count": null,
   "metadata": {},
   "outputs": [],
   "source": []
  }
 ],
 "metadata": {
  "kernelspec": {
   "display_name": "Julia 1.5.3",
   "language": "julia",
   "name": "julia-1.5"
  },
  "language_info": {
   "file_extension": ".jl",
   "mimetype": "application/julia",
   "name": "julia",
   "version": "1.5.3"
  }
 },
 "nbformat": 4,
 "nbformat_minor": 4
}
