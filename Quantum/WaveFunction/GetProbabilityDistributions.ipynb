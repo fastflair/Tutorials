{
 "cells": [
  {
   "cell_type": "markdown",
   "metadata": {},
   "source": [
    "This is a wavefunction simulator.  Due to the probabilistic nature of quantum information, the programs running on the QPU can give a distribution of outputs. When running on the QPU or QVM, you would aggregate results (anywhere from tens of trials to 100k+!) that you can sample to get back a distribution.  \n",
    "\n",
    "With the Wavefunction Simulator, we can look at the distribution without having to collect samples from simulations/iterations. This can save a lot of time for programs. Let’s walk through a basic example of using WavefunctionSimulator:"
   ]
  },
  {
   "cell_type": "markdown",
   "metadata": {},
   "source": [
    "For installation notes, see: https://pyquil-docs.rigetti.com/en/stable/start.html\n",
    "These need to be started for quantum simulations:\n",
    "        qvm -S\n",
    "        quilc -S"
   ]
  },
  {
   "cell_type": "code",
   "execution_count": 6,
   "metadata": {},
   "outputs": [],
   "source": [
    "from pyquil import Program\n",
    "from pyquil.gates import *\n",
    "from pyquil.api import WavefunctionSimulator\n",
    "\n",
    "import numpy as np"
   ]
  },
  {
   "cell_type": "code",
   "execution_count": 7,
   "metadata": {},
   "outputs": [
    {
     "data": {
      "text/plain": [
       "<pyquil.wavefunction.Wavefunction at 0x2856362ef40>"
      ]
     },
     "execution_count": 7,
     "metadata": {},
     "output_type": "execute_result"
    }
   ],
   "source": [
    "wf_sim = WavefunctionSimulator()\n",
    "coin_flip = Program(H(0))\n",
    "wf_sim.wavefunction(coin_flip)"
   ]
  },
  {
   "cell_type": "markdown",
   "metadata": {},
   "source": [
    "The return value is a Wavefunction object that stores the amplitudes of the quantum state. Print this object:"
   ]
  },
  {
   "cell_type": "code",
   "execution_count": 8,
   "metadata": {},
   "outputs": [
    {
     "name": "stdout",
     "output_type": "stream",
     "text": [
      "(0.7071067812+0j)|0> + (0.7071067812+0j)|1>\n"
     ]
    }
   ],
   "source": [
    "coin_flip = Program(H(0))\n",
    "wavefunction = wf_sim.wavefunction(coin_flip)\n",
    "print(wavefunction)"
   ]
  },
  {
   "cell_type": "markdown",
   "metadata": {},
   "source": [
    "To see the amplitudes listed as a sum of computational basis states. We can index amplitudes directly or look at a dictionary of associated outcome probabilities:"
   ]
  },
  {
   "cell_type": "code",
   "execution_count": 9,
   "metadata": {},
   "outputs": [
    {
     "name": "stdout",
     "output_type": "stream",
     "text": [
      "[0.70710678+0.j 0.70710678+0.j]\n",
      "{'0': 0.4999999999999999, '1': 0.4999999999999999}\n"
     ]
    }
   ],
   "source": [
    "assert wavefunction[0] == 1 / np.sqrt(2)\n",
    "# The amplitudes are stored as a numpy array on the Wavefunction object\n",
    "print(wavefunction.amplitudes)\n",
    "prob_dict = wavefunction.get_outcome_probs() # extracts the probabilities of outcomes as a dict\n",
    "print(prob_dict)\n",
    "prob_dict.keys() # these store the bitstring outcomes\n",
    "assert len(wavefunction) == 1 # gives the number of qubits"
   ]
  },
  {
   "cell_type": "code",
   "execution_count": null,
   "metadata": {},
   "outputs": [],
   "source": []
  }
 ],
 "metadata": {
  "kernelspec": {
   "display_name": "Python 3",
   "language": "python",
   "name": "python3"
  },
  "language_info": {
   "codemirror_mode": {
    "name": "ipython",
    "version": 3
   },
   "file_extension": ".py",
   "mimetype": "text/x-python",
   "name": "python",
   "nbconvert_exporter": "python",
   "pygments_lexer": "ipython3",
   "version": "3.8.5"
  }
 },
 "nbformat": 4,
 "nbformat_minor": 4
}
