{
 "cells": [
  {
   "cell_type": "code",
   "execution_count": 1,
   "id": "90a6fb71",
   "metadata": {},
   "outputs": [],
   "source": [
    "import os\n",
    "from os import path\n",
    "import sys\n",
    "import contextlib\n",
    "import argparse\n",
    "import string\n",
    "import numpy as np\n",
    "from numpy import fft\n",
    "import pandas as pd\n",
    "from yahoo_fin import stock_info as si\n",
    "import matplotlib.pyplot as plt\n",
    "import pylab as pl\n",
    "from datetime import datetime"
   ]
  },
  {
   "cell_type": "code",
   "execution_count": 2,
   "id": "1cccb2f9",
   "metadata": {},
   "outputs": [],
   "source": [
    "import warnings\n",
    "from pandas.core.common import SettingWithCopyWarning\n",
    "warnings.simplefilter(action=\"ignore\", category=SettingWithCopyWarning)"
   ]
  },
  {
   "cell_type": "code",
   "execution_count": 33,
   "id": "4fb1baee",
   "metadata": {},
   "outputs": [],
   "source": [
    "# Set the desired stock ticker symbol\n",
    "TICKER = 'EPAM'\n",
    "# Set the number of days ahead to forecast\n",
    "LOOKUP_STEP = 20\n",
    "# Set a start and end date for historical analysis\n",
    "startDate = '1/1/2001'\n",
    "endDate = '3/15/2022'"
   ]
  },
  {
   "cell_type": "code",
   "execution_count": 34,
   "id": "0003156e",
   "metadata": {},
   "outputs": [],
   "source": [
    "def fourierExtrapolation(x, n_predict, period):\n",
    "    n = x.size\n",
    "    n_harm = period\n",
    "    t = np.arange(0, n)\n",
    "    p = np.polyfit(t, x, 1)\n",
    "    x_notrend = x - p[0] * t\n",
    "    x_freqdom = fft.fft(x_notrend)\n",
    "    f = fft.fftfreq(n)\n",
    "    indexes = list(range(n))\n",
    "    indexes.sort(key=lambda i: np.absolute(f[i]))\n",
    "\n",
    "    t = np.arange(0, n + n_predict)\n",
    "    restored_sig = np.zeros(t.size)\n",
    "    for i in indexes[:1 + n_harm * 2]:\n",
    "        ampli = np.absolute(x_freqdom[i]) / n\n",
    "        phase = np.angle(x_freqdom[i])\n",
    "        restored_sig += ampli * np.cos(2 * np.pi * f[i] * t + phase)\n",
    "    return restored_sig + p[0] * t"
   ]
  },
  {
   "cell_type": "code",
   "execution_count": 35,
   "id": "30ed756b",
   "metadata": {},
   "outputs": [],
   "source": [
    "# populate a dataframe with historical data\n",
    "df = si.get_data(TICKER, start_date = startDate, end_date=endDate)"
   ]
  },
  {
   "cell_type": "code",
   "execution_count": 36,
   "id": "df8fd926",
   "metadata": {},
   "outputs": [
    {
     "data": {
      "text/html": [
       "<div>\n",
       "<style scoped>\n",
       "    .dataframe tbody tr th:only-of-type {\n",
       "        vertical-align: middle;\n",
       "    }\n",
       "\n",
       "    .dataframe tbody tr th {\n",
       "        vertical-align: top;\n",
       "    }\n",
       "\n",
       "    .dataframe thead th {\n",
       "        text-align: right;\n",
       "    }\n",
       "</style>\n",
       "<table border=\"1\" class=\"dataframe\">\n",
       "  <thead>\n",
       "    <tr style=\"text-align: right;\">\n",
       "      <th></th>\n",
       "      <th>open</th>\n",
       "      <th>high</th>\n",
       "      <th>low</th>\n",
       "      <th>close</th>\n",
       "      <th>adjclose</th>\n",
       "      <th>volume</th>\n",
       "      <th>ticker</th>\n",
       "    </tr>\n",
       "  </thead>\n",
       "  <tbody>\n",
       "    <tr>\n",
       "      <th>2012-02-08</th>\n",
       "      <td>13.750000</td>\n",
       "      <td>15.050000</td>\n",
       "      <td>13.250000</td>\n",
       "      <td>14.000000</td>\n",
       "      <td>14.000000</td>\n",
       "      <td>3336200</td>\n",
       "      <td>EPAM</td>\n",
       "    </tr>\n",
       "    <tr>\n",
       "      <th>2012-02-09</th>\n",
       "      <td>14.170000</td>\n",
       "      <td>14.220000</td>\n",
       "      <td>13.750000</td>\n",
       "      <td>13.910000</td>\n",
       "      <td>13.910000</td>\n",
       "      <td>580500</td>\n",
       "      <td>EPAM</td>\n",
       "    </tr>\n",
       "    <tr>\n",
       "      <th>2012-02-10</th>\n",
       "      <td>14.000000</td>\n",
       "      <td>14.030000</td>\n",
       "      <td>13.770000</td>\n",
       "      <td>13.960000</td>\n",
       "      <td>13.960000</td>\n",
       "      <td>336300</td>\n",
       "      <td>EPAM</td>\n",
       "    </tr>\n",
       "    <tr>\n",
       "      <th>2012-02-13</th>\n",
       "      <td>13.910000</td>\n",
       "      <td>14.420000</td>\n",
       "      <td>13.630000</td>\n",
       "      <td>13.650000</td>\n",
       "      <td>13.650000</td>\n",
       "      <td>175900</td>\n",
       "      <td>EPAM</td>\n",
       "    </tr>\n",
       "    <tr>\n",
       "      <th>2012-02-14</th>\n",
       "      <td>13.600000</td>\n",
       "      <td>13.790000</td>\n",
       "      <td>13.300000</td>\n",
       "      <td>13.440000</td>\n",
       "      <td>13.440000</td>\n",
       "      <td>122200</td>\n",
       "      <td>EPAM</td>\n",
       "    </tr>\n",
       "    <tr>\n",
       "      <th>...</th>\n",
       "      <td>...</td>\n",
       "      <td>...</td>\n",
       "      <td>...</td>\n",
       "      <td>...</td>\n",
       "      <td>...</td>\n",
       "      <td>...</td>\n",
       "      <td>...</td>\n",
       "    </tr>\n",
       "    <tr>\n",
       "      <th>2022-03-08</th>\n",
       "      <td>175.320007</td>\n",
       "      <td>193.720001</td>\n",
       "      <td>168.589996</td>\n",
       "      <td>186.750000</td>\n",
       "      <td>186.750000</td>\n",
       "      <td>3329200</td>\n",
       "      <td>EPAM</td>\n",
       "    </tr>\n",
       "    <tr>\n",
       "      <th>2022-03-09</th>\n",
       "      <td>200.479996</td>\n",
       "      <td>200.929993</td>\n",
       "      <td>187.160004</td>\n",
       "      <td>198.410004</td>\n",
       "      <td>198.410004</td>\n",
       "      <td>2247000</td>\n",
       "      <td>EPAM</td>\n",
       "    </tr>\n",
       "    <tr>\n",
       "      <th>2022-03-10</th>\n",
       "      <td>195.139999</td>\n",
       "      <td>196.309998</td>\n",
       "      <td>184.509995</td>\n",
       "      <td>188.759995</td>\n",
       "      <td>188.759995</td>\n",
       "      <td>1227100</td>\n",
       "      <td>EPAM</td>\n",
       "    </tr>\n",
       "    <tr>\n",
       "      <th>2022-03-11</th>\n",
       "      <td>196.779999</td>\n",
       "      <td>207.839996</td>\n",
       "      <td>189.320007</td>\n",
       "      <td>200.139999</td>\n",
       "      <td>200.139999</td>\n",
       "      <td>1613100</td>\n",
       "      <td>EPAM</td>\n",
       "    </tr>\n",
       "    <tr>\n",
       "      <th>2022-03-14</th>\n",
       "      <td>198.479996</td>\n",
       "      <td>221.279999</td>\n",
       "      <td>198.479996</td>\n",
       "      <td>220.000000</td>\n",
       "      <td>220.000000</td>\n",
       "      <td>2144200</td>\n",
       "      <td>EPAM</td>\n",
       "    </tr>\n",
       "  </tbody>\n",
       "</table>\n",
       "<p>2541 rows × 7 columns</p>\n",
       "</div>"
      ],
      "text/plain": [
       "                  open        high         low       close    adjclose  \\\n",
       "2012-02-08   13.750000   15.050000   13.250000   14.000000   14.000000   \n",
       "2012-02-09   14.170000   14.220000   13.750000   13.910000   13.910000   \n",
       "2012-02-10   14.000000   14.030000   13.770000   13.960000   13.960000   \n",
       "2012-02-13   13.910000   14.420000   13.630000   13.650000   13.650000   \n",
       "2012-02-14   13.600000   13.790000   13.300000   13.440000   13.440000   \n",
       "...                ...         ...         ...         ...         ...   \n",
       "2022-03-08  175.320007  193.720001  168.589996  186.750000  186.750000   \n",
       "2022-03-09  200.479996  200.929993  187.160004  198.410004  198.410004   \n",
       "2022-03-10  195.139999  196.309998  184.509995  188.759995  188.759995   \n",
       "2022-03-11  196.779999  207.839996  189.320007  200.139999  200.139999   \n",
       "2022-03-14  198.479996  221.279999  198.479996  220.000000  220.000000   \n",
       "\n",
       "             volume ticker  \n",
       "2012-02-08  3336200   EPAM  \n",
       "2012-02-09   580500   EPAM  \n",
       "2012-02-10   336300   EPAM  \n",
       "2012-02-13   175900   EPAM  \n",
       "2012-02-14   122200   EPAM  \n",
       "...             ...    ...  \n",
       "2022-03-08  3329200   EPAM  \n",
       "2022-03-09  2247000   EPAM  \n",
       "2022-03-10  1227100   EPAM  \n",
       "2022-03-11  1613100   EPAM  \n",
       "2022-03-14  2144200   EPAM  \n",
       "\n",
       "[2541 rows x 7 columns]"
      ]
     },
     "execution_count": 36,
     "metadata": {},
     "output_type": "execute_result"
    }
   ],
   "source": [
    "df"
   ]
  },
  {
   "cell_type": "code",
   "execution_count": 37,
   "id": "87e15568",
   "metadata": {},
   "outputs": [],
   "source": [
    "# how many cycles are in the data?\n",
    "# SME's expect a total of 61 cycles in a 7 year period.\n",
    "# There are 253 trading days in a year\n",
    "# 253 * 7 / 61 = 29\n",
    "NPERIOD = int(len(df.index)/29)"
   ]
  },
  {
   "cell_type": "code",
   "execution_count": 38,
   "id": "63fb068b",
   "metadata": {},
   "outputs": [],
   "source": [
    "hist = df.loc[:,'adjclose'].values\n",
    "train = df.loc[:endDate,'adjclose'].values"
   ]
  },
  {
   "cell_type": "code",
   "execution_count": 39,
   "id": "a11dac1a",
   "metadata": {},
   "outputs": [
    {
     "data": {
      "text/plain": [
       "<matplotlib.legend.Legend at 0x2453b794eb0>"
      ]
     },
     "execution_count": 39,
     "metadata": {},
     "output_type": "execute_result"
    },
    {
     "data": {
      "image/png": "[encoded data removed]",
      "text/plain": [
       "<Figure size 1296x576 with 1 Axes>"
      ]
     },
     "metadata": {
      "needs_background": "light"
     },
     "output_type": "display_data"
    }
   ],
   "source": [
    "plt.figure(figsize=(18,8))\n",
    "n_predict = len(hist) - len(train) + LOOKUP_STEP\n",
    "extrapolation = fourierExtrapolation(train, n_predict, NPERIOD)\n",
    "extrapolation[extrapolation < 0] = 0\n",
    "pl.plot(np.arange(0, hist.size), hist, 'b', label = 'Data', linewidth = 3)\n",
    "pl.plot(np.arange(0, train.size), train, 'c', label = 'Train', linewidth = 2)\n",
    "pl.plot(np.arange(0, extrapolation.size), extrapolation, 'r', label = 'Predict', linewidth = 1)\n",
    "pl.legend()"
   ]
  },
  {
   "cell_type": "code",
   "execution_count": 40,
   "id": "0a3d7a5e",
   "metadata": {},
   "outputs": [
    {
     "name": "stdout",
     "output_type": "stream",
     "text": [
      "Future $ price after 20 days is 483.76\n"
     ]
    }
   ],
   "source": [
    "print(f\"Future $ price after {LOOKUP_STEP} days is {extrapolation[-1]:.2f}\")"
   ]
  },
  {
   "cell_type": "code",
   "execution_count": 41,
   "id": "5652dc7a",
   "metadata": {},
   "outputs": [
    {
     "name": "stdout",
     "output_type": "stream",
     "text": [
      "Expected percent change is %119.89\n"
     ]
    }
   ],
   "source": [
    "print(f\"Expected percent change is %{(extrapolation[-1]/df['adjclose'][-1]-1)*100:.2f}\")"
   ]
  },
  {
   "cell_type": "code",
   "execution_count": null,
   "id": "74c1129c",
   "metadata": {},
   "outputs": [],
   "source": []
  }
 ],
 "metadata": {
  "kernelspec": {
   "display_name": "Python 3 (ipykernel)",
   "language": "python",
   "name": "python3"
  },
  "language_info": {
   "codemirror_mode": {
    "name": "ipython",
    "version": 3
   },
   "file_extension": ".py",
   "mimetype": "text/x-python",
   "name": "python",
   "nbconvert_exporter": "python",
   "pygments_lexer": "ipython3",
   "version": "3.9.13"
  }
 },
 "nbformat": 4,
 "nbformat_minor": 5
}
