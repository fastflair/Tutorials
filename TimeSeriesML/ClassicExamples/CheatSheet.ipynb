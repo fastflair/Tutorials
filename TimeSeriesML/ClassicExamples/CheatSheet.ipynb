{
 "cells": [
  {
   "cell_type": "markdown",
   "id": "50b55412",
   "metadata": {},
   "source": [
    "# Autoregression"
   ]
  },
  {
   "cell_type": "markdown",
   "id": "53da0356",
   "metadata": {},
   "source": [
    "The autoregression (AR) method models the next step in the sequence as a linear function of the observations at prior time steps.\n",
    "\n",
    "The notation for the model involves specifying the order of the model p as a parameter to the AR function, e.g. AR(p). For example, AR(1) is a first-order autoregression model.\n",
    "\n",
    "The method is suitable for univariate time series without trend and seasonal components."
   ]
  },
  {
   "cell_type": "code",
   "execution_count": 1,
   "id": "740a5780",
   "metadata": {},
   "outputs": [],
   "source": [
    "# AR example\n",
    "from statsmodels.tsa.ar_model import AutoReg"
   ]
  },
  {
   "cell_type": "code",
   "execution_count": 4,
   "id": "c2152462",
   "metadata": {},
   "outputs": [],
   "source": [
    "# Lets use oil price ETF data from yahoo finance as an example\n",
    "from yahoo_fin import stock_info as si\n",
    "# Set the desired stock ticker symbol\n",
    "TICKER = 'OIL'\n",
    "# Set a start for historical analysis, end date is current day\n",
    "startDate = '1/1/2020'\n",
    "# populate a dataframe with historical data\n",
    "df = si.get_data(TICKER, start_date = startDate)"
   ]
  },
  {
   "cell_type": "code",
   "execution_count": 5,
   "id": "ef75dc9b",
   "metadata": {},
   "outputs": [
    {
     "data": {
      "text/html": [
       "<div>\n",
       "<style scoped>\n",
       "    .dataframe tbody tr th:only-of-type {\n",
       "        vertical-align: middle;\n",
       "    }\n",
       "\n",
       "    .dataframe tbody tr th {\n",
       "        vertical-align: top;\n",
       "    }\n",
       "\n",
       "    .dataframe thead th {\n",
       "        text-align: right;\n",
       "    }\n",
       "</style>\n",
       "<table border=\"1\" class=\"dataframe\">\n",
       "  <thead>\n",
       "    <tr style=\"text-align: right;\">\n",
       "      <th></th>\n",
       "      <th>open</th>\n",
       "      <th>high</th>\n",
       "      <th>low</th>\n",
       "      <th>close</th>\n",
       "      <th>adjclose</th>\n",
       "      <th>volume</th>\n",
       "      <th>ticker</th>\n",
       "    </tr>\n",
       "  </thead>\n",
       "  <tbody>\n",
       "    <tr>\n",
       "      <th>2020-01-02</th>\n",
       "      <td>19.000000</td>\n",
       "      <td>19.059999</td>\n",
       "      <td>18.969999</td>\n",
       "      <td>19.059999</td>\n",
       "      <td>19.059999</td>\n",
       "      <td>500</td>\n",
       "      <td>OIL</td>\n",
       "    </tr>\n",
       "    <tr>\n",
       "      <th>2020-01-03</th>\n",
       "      <td>19.620001</td>\n",
       "      <td>19.620001</td>\n",
       "      <td>19.620001</td>\n",
       "      <td>19.620001</td>\n",
       "      <td>19.620001</td>\n",
       "      <td>100</td>\n",
       "      <td>OIL</td>\n",
       "    </tr>\n",
       "    <tr>\n",
       "      <th>2020-01-06</th>\n",
       "      <td>19.750000</td>\n",
       "      <td>19.750000</td>\n",
       "      <td>19.549999</td>\n",
       "      <td>19.549999</td>\n",
       "      <td>19.549999</td>\n",
       "      <td>400</td>\n",
       "      <td>OIL</td>\n",
       "    </tr>\n",
       "    <tr>\n",
       "      <th>2020-01-07</th>\n",
       "      <td>19.530001</td>\n",
       "      <td>19.530001</td>\n",
       "      <td>19.530001</td>\n",
       "      <td>19.530001</td>\n",
       "      <td>19.530001</td>\n",
       "      <td>100</td>\n",
       "      <td>OIL</td>\n",
       "    </tr>\n",
       "    <tr>\n",
       "      <th>2020-01-08</th>\n",
       "      <td>18.680000</td>\n",
       "      <td>18.830000</td>\n",
       "      <td>18.680000</td>\n",
       "      <td>18.830000</td>\n",
       "      <td>18.830000</td>\n",
       "      <td>900</td>\n",
       "      <td>OIL</td>\n",
       "    </tr>\n",
       "    <tr>\n",
       "      <th>...</th>\n",
       "      <td>...</td>\n",
       "      <td>...</td>\n",
       "      <td>...</td>\n",
       "      <td>...</td>\n",
       "      <td>...</td>\n",
       "      <td>...</td>\n",
       "      <td>...</td>\n",
       "    </tr>\n",
       "    <tr>\n",
       "      <th>2022-03-15</th>\n",
       "      <td>30.080000</td>\n",
       "      <td>33.250000</td>\n",
       "      <td>29.680000</td>\n",
       "      <td>29.740000</td>\n",
       "      <td>29.740000</td>\n",
       "      <td>1153300</td>\n",
       "      <td>OIL</td>\n",
       "    </tr>\n",
       "    <tr>\n",
       "      <th>2022-03-16</th>\n",
       "      <td>30.639999</td>\n",
       "      <td>30.799999</td>\n",
       "      <td>29.330000</td>\n",
       "      <td>29.580000</td>\n",
       "      <td>29.580000</td>\n",
       "      <td>349500</td>\n",
       "      <td>OIL</td>\n",
       "    </tr>\n",
       "    <tr>\n",
       "      <th>2022-03-17</th>\n",
       "      <td>31.510000</td>\n",
       "      <td>32.470001</td>\n",
       "      <td>31.459999</td>\n",
       "      <td>31.980000</td>\n",
       "      <td>31.980000</td>\n",
       "      <td>234000</td>\n",
       "      <td>OIL</td>\n",
       "    </tr>\n",
       "    <tr>\n",
       "      <th>2022-03-18</th>\n",
       "      <td>32.560001</td>\n",
       "      <td>32.590000</td>\n",
       "      <td>32.000000</td>\n",
       "      <td>32.330002</td>\n",
       "      <td>32.330002</td>\n",
       "      <td>116700</td>\n",
       "      <td>OIL</td>\n",
       "    </tr>\n",
       "    <tr>\n",
       "      <th>2022-03-18</th>\n",
       "      <td>32.560001</td>\n",
       "      <td>32.566002</td>\n",
       "      <td>32.004101</td>\n",
       "      <td>32.330002</td>\n",
       "      <td>32.330002</td>\n",
       "      <td>117215</td>\n",
       "      <td>OIL</td>\n",
       "    </tr>\n",
       "  </tbody>\n",
       "</table>\n",
       "<p>559 rows × 7 columns</p>\n",
       "</div>"
      ],
      "text/plain": [
       "                 open       high        low      close   adjclose   volume  \\\n",
       "2020-01-02  19.000000  19.059999  18.969999  19.059999  19.059999      500   \n",
       "2020-01-03  19.620001  19.620001  19.620001  19.620001  19.620001      100   \n",
       "2020-01-06  19.750000  19.750000  19.549999  19.549999  19.549999      400   \n",
       "2020-01-07  19.530001  19.530001  19.530001  19.530001  19.530001      100   \n",
       "2020-01-08  18.680000  18.830000  18.680000  18.830000  18.830000      900   \n",
       "...               ...        ...        ...        ...        ...      ...   \n",
       "2022-03-15  30.080000  33.250000  29.680000  29.740000  29.740000  1153300   \n",
       "2022-03-16  30.639999  30.799999  29.330000  29.580000  29.580000   349500   \n",
       "2022-03-17  31.510000  32.470001  31.459999  31.980000  31.980000   234000   \n",
       "2022-03-18  32.560001  32.590000  32.000000  32.330002  32.330002   116700   \n",
       "2022-03-18  32.560001  32.566002  32.004101  32.330002  32.330002   117215   \n",
       "\n",
       "           ticker  \n",
       "2020-01-02    OIL  \n",
       "2020-01-03    OIL  \n",
       "2020-01-06    OIL  \n",
       "2020-01-07    OIL  \n",
       "2020-01-08    OIL  \n",
       "...           ...  \n",
       "2022-03-15    OIL  \n",
       "2022-03-16    OIL  \n",
       "2022-03-17    OIL  \n",
       "2022-03-18    OIL  \n",
       "2022-03-18    OIL  \n",
       "\n",
       "[559 rows x 7 columns]"
      ]
     },
     "execution_count": 5,
     "metadata": {},
     "output_type": "execute_result"
    }
   ],
   "source": [
    "df"
   ]
  },
  {
   "cell_type": "code",
   "execution_count": 8,
   "id": "4684f1f1",
   "metadata": {},
   "outputs": [],
   "source": [
    "data = df['adjclose'].values"
   ]
  },
  {
   "cell_type": "code",
   "execution_count": 9,
   "id": "a3eba24c",
   "metadata": {},
   "outputs": [
    {
     "data": {
      "text/plain": [
       "array([19.05999947, 19.62000084, 19.54999924, 19.53000069, 18.82999992,\n",
       "       18.82999992, 18.54000092, 18.25      , 18.37999916, 18.37999916,\n",
       "       18.36000061, 18.43000031, 18.34000015, 17.88999939, 17.55999947,\n",
       "       17.17000008, 16.75      , 16.95000076, 16.86000061, 16.76000023,\n",
       "       16.46999931, 16.03000069, 15.94999981, 16.36000061, 16.39999962,\n",
       "       16.20999908, 15.94999981, 16.11000061, 16.55999947, 16.59000015,\n",
       "       16.71999931, 16.73999977, 17.03000069, 17.10000038, 16.92000008,\n",
       "       16.31999969, 15.81999969, 15.51000023, 14.97000027, 14.42000008,\n",
       "       15.07999992, 15.03999996, 15.05000019, 14.67000008, 13.39999962,\n",
       "       10.31999969, 11.31000042, 10.93999958, 10.43000031, 10.92000008,\n",
       "        9.73999977,  9.35000038,  8.35999966,  9.26000023,  8.92000008,\n",
       "        8.15999985,  9.11999989,  9.59000015,  9.40999985,  9.39999962,\n",
       "        9.40999985,  9.35000038,  9.        ,  9.80000019, 10.22999954,\n",
       "       10.38000011, 10.51000023, 10.40999985, 10.39999962, 10.80000019,\n",
       "       10.68999958, 10.07999992,  9.94999981,  9.90999985,  9.52000046,\n",
       "        7.67000008,  8.05000019,  8.18999958,  8.10999966,  7.46000004,\n",
       "        7.46999979,  7.82999992,  8.35999966,  8.11999989,  8.36999989,\n",
       "        9.14999962,  8.88000011,  8.59000015,  9.19999981,  8.89999962,\n",
       "        8.78999996,  8.60000038,  9.02999973,  9.23999977, 10.14000034,\n",
       "       10.05000019, 10.52000046, 10.69999981, 10.48999977, 10.72999954,\n",
       "       10.36999989, 10.44999981, 10.94999981, 10.06000042, 11.42000008,\n",
       "       11.32999992, 11.48999977, 12.18999958, 11.85000038, 12.01000023,\n",
       "       12.02000046, 11.13000011, 11.32999992, 11.56000042, 11.78999996,\n",
       "       11.69999981, 11.94999981, 12.14999962, 12.39999962, 12.35999966,\n",
       "       11.61999989, 12.01000023, 11.75      , 12.11999989, 12.09000015,\n",
       "       12.15999985, 12.31000042, 12.46000004, 12.38000011, 12.56999969,\n",
       "       12.14000034, 12.39999962, 12.19999981, 12.32999992, 12.60000038,\n",
       "       12.43999958, 12.46000004, 12.46000004, 12.77999973, 12.78999996,\n",
       "       12.61999989, 12.63000011, 12.77000046, 12.57999992, 12.68999958,\n",
       "       12.40999985, 12.52000046, 12.63000011, 12.82999992, 13.02999973,\n",
       "       13.        , 12.75      , 12.93999958, 12.84000015, 13.10999966,\n",
       "       13.09000015, 12.93999958, 13.25      , 13.18000031, 13.21000004,\n",
       "       13.09000015, 12.90999985, 13.05000019, 13.31999969, 13.27000046,\n",
       "       13.10999966, 13.11999989, 13.06999969, 13.14999962, 12.76000023,\n",
       "       12.71000004, 12.21000004, 11.43000031, 11.75      , 11.5       ,\n",
       "       11.60000038, 11.53999996, 11.75      , 12.22999954, 12.46000004,\n",
       "       12.39999962, 12.05000019, 12.02000046, 11.94999981, 12.13000011,\n",
       "       12.05000019, 12.15999985, 11.77999973, 12.05000019, 11.69999981,\n",
       "       11.28999996, 11.98999977, 12.13000011, 12.09000015, 12.47000027,\n",
       "       12.22999954, 11.96000004, 12.14999962, 12.31999969, 12.31000042,\n",
       "       12.22999954, 12.21000004, 12.38000011, 11.97999954, 12.14000034,\n",
       "       11.86999989, 11.56000042, 11.77999973, 11.22000027, 10.93999958,\n",
       "       10.77000046, 11.21000004, 11.39999962, 11.68999958, 11.57999992,\n",
       "       11.27000046, 12.        , 12.35000038, 12.42000008, 12.26000023,\n",
       "       12.        , 12.31000042, 12.32999992, 12.38000011, 12.40999985,\n",
       "       12.52000046, 12.64999962, 13.22999954, 13.47000027, 13.39000034,\n",
       "       13.27000046, 13.13000011, 13.27999973, 13.43000031, 13.52999973,\n",
       "       13.47999954, 13.46000004, 13.44999981, 13.76000023, 13.68999958,\n",
       "       13.77999973, 13.96000004, 14.02999973, 14.22000027, 14.34000015,\n",
       "       13.98999977, 13.75      , 14.05000019, 14.07999992, 13.97999954,\n",
       "       14.05000019, 14.10000038, 14.13000011, 13.86999989, 14.52000046,\n",
       "       14.60000038, 14.77999973, 15.13000011, 15.05000019, 15.32999992,\n",
       "       15.31000042, 15.48999977, 15.07999992, 15.28999996, 15.31000042,\n",
       "       15.28999996, 15.06999969, 15.22999954, 15.15999985, 15.14999962,\n",
       "       15.06999969, 15.03999996, 15.43999958, 15.73999977, 16.02000046,\n",
       "       16.15999985, 16.32999992, 16.65999985, 16.76000023, 16.82999992,\n",
       "       16.67000008, 17.07999992, 17.35000038, 17.53000069, 17.22999954,\n",
       "       16.98999977, 17.62999916, 17.81999969, 18.20000076, 18.18000031,\n",
       "       17.67000008, 17.36000061, 17.15999985, 17.63999939, 18.46999931,\n",
       "       19.06999969, 18.68000031, 18.47999954, 18.73999977, 19.14999962,\n",
       "       19.04000092, 19.        , 18.81999969, 18.76000023, 17.45999908,\n",
       "       18.01000023, 17.95000076, 17.04000092, 17.92000008, 17.26000023,\n",
       "       17.90999985, 18.09000015, 17.73999977, 17.52000046, 18.11000061,\n",
       "       17.43000031, 17.67000008, 17.67000008, 17.67000008, 17.59000015,\n",
       "       17.72999954, 17.95000076, 18.62000084, 18.69000053, 18.62999916,\n",
       "       18.69000053, 18.42000008, 18.03000069, 18.15999985, 18.36000061,\n",
       "       18.30999947, 18.61000061, 18.84000015, 19.12000084, 18.71999931,\n",
       "       19.        , 19.42000008, 19.34000015, 19.25      , 19.22999954,\n",
       "       19.29999924, 19.48999977, 19.57999992, 18.97999954, 19.36000061,\n",
       "       19.63999939, 19.47999954, 18.79000092, 18.43000031, 18.88999939,\n",
       "       19.52000046, 19.42000008, 19.55999947, 19.72999954, 19.70000076,\n",
       "       20.11000061, 20.29999924, 20.31999969, 20.5       , 20.45000076,\n",
       "       20.75      , 20.57999992, 20.79000092, 20.80999947, 20.87999916,\n",
       "       21.20999908, 21.11000061, 20.71999931, 20.89999962, 21.27000046,\n",
       "       21.34000015, 21.45000076, 21.54000092, 21.69000053, 21.37000084,\n",
       "       21.56999969, 21.54000092, 21.80999947, 21.96999931, 21.44000053,\n",
       "       20.96999931, 21.28000069, 21.70999908, 21.67000008, 22.06999969,\n",
       "       21.40999985, 21.12999916, 21.12999916, 19.80999947, 19.95999908,\n",
       "       20.80999947, 21.25      , 21.37000084, 21.37000084, 21.23999977,\n",
       "       21.42000008, 21.77000046, 21.79000092, 21.20000076, 21.02000046,\n",
       "       20.35000038, 20.73999977, 20.62000084, 20.10000038, 20.65999985,\n",
       "       20.85000038, 20.76000023, 20.44000053, 20.29000092, 20.04999924,\n",
       "       19.55999947, 19.38999939, 18.71999931, 19.79999924, 20.54000092,\n",
       "       20.67000008, 20.54999924, 20.79000092, 20.94000053, 20.80999947,\n",
       "       20.67000008, 21.19000053, 21.        , 20.70999908, 21.        ,\n",
       "       20.60000038, 21.10000038, 21.40999985, 21.34000015, 22.        ,\n",
       "       22.        , 21.76000023, 21.44000053, 21.45999908, 21.92000008,\n",
       "       22.28000069, 22.47999954, 22.94000053, 22.78000069, 22.73999977,\n",
       "       22.86000061, 23.04999924, 23.68000031, 24.17000008, 23.44000053,\n",
       "       24.04000092, 24.12999916, 24.48999977, 24.37000084, 24.30999947,\n",
       "       24.62000084, 24.78000069, 24.62000084, 24.88999939, 25.14999962,\n",
       "       24.82999992, 24.96999931, 24.95000076, 25.20000076, 24.56999969,\n",
       "       24.67000008, 24.5       , 24.78000069, 24.70999908, 23.79999924,\n",
       "       23.62999916, 24.39999962, 24.64999962, 24.97999954, 24.27000046,\n",
       "       24.26000023, 24.10000038, 24.20000076, 24.20999908, 23.70000076,\n",
       "       23.95000076, 23.18000031, 23.48999977, 24.21999931, 24.13999939,\n",
       "       21.37000084, 21.59000015, 20.55999947, 20.25      , 20.87999916,\n",
       "       20.61000061, 21.75      , 22.15999985, 22.56999969, 21.89999962,\n",
       "       22.42000008, 22.07999992, 21.82999992, 22.17000008, 22.27000046,\n",
       "       21.81999969, 21.45000076, 22.25      , 22.65999985, 22.95000076,\n",
       "       23.54999924, 23.54000092, 23.70000076, 23.70000076, 23.47999954,\n",
       "       23.65999985, 24.01000023, 23.87000084, 24.56999969, 24.42000008,\n",
       "       24.20000076, 25.17000008, 25.40999985, 25.18000031, 25.88999939,\n",
       "       26.34000015, 26.43000031, 26.15999985, 26.18000031, 25.98999977,\n",
       "       26.31999969, 26.55999947, 26.67000008, 26.71999931, 26.88999939,\n",
       "       26.87999916, 26.93000031, 27.35000038, 28.03000069, 27.86000061,\n",
       "       27.37000084, 27.54999924, 27.53000069, 28.29999924, 28.55999947,\n",
       "       27.54000092, 27.20000076, 27.65999985, 27.95000076, 28.23999977,\n",
       "       28.53000069, 28.57999992, 28.23999977, 29.07999992, 31.19000053,\n",
       "       33.04000092, 32.43999863, 34.40000153, 35.97000122, 37.25999832,\n",
       "       32.75      , 31.85000038, 33.09999847, 31.57999992, 29.73999977,\n",
       "       29.57999992, 31.97999954, 32.33000183, 32.33000183])"
      ]
     },
     "execution_count": 9,
     "metadata": {},
     "output_type": "execute_result"
    }
   ],
   "source": [
    "data"
   ]
  },
  {
   "cell_type": "code",
   "execution_count": 19,
   "id": "f2885128",
   "metadata": {},
   "outputs": [
    {
     "name": "stdout",
     "output_type": "stream",
     "text": [
      "[32.38161016]\n"
     ]
    }
   ],
   "source": [
    "# fit model\n",
    "model = AutoReg(data, lags=1)\n",
    "model_fit = model.fit()\n",
    "# make prediction\n",
    "yhat = model_fit.predict(len(data), len(data))\n",
    "print(yhat)"
   ]
  },
  {
   "cell_type": "code",
   "execution_count": 20,
   "id": "b79aa0e6",
   "metadata": {},
   "outputs": [
    {
     "data": {
      "text/plain": [
       "array([0.15962983])"
      ]
     },
     "execution_count": 20,
     "metadata": {},
     "output_type": "execute_result"
    }
   ],
   "source": [
    "# next day predicted change is\n",
    "forecast_percent_change = ((yhat/data[-1])-1)*100.0\n",
    "forecast_percent_change"
   ]
  },
  {
   "cell_type": "markdown",
   "id": "82ed6ca4",
   "metadata": {},
   "source": [
    "# Autoregressive Integrated Moving Average (ARIMA)"
   ]
  },
  {
   "cell_type": "markdown",
   "id": "eb36ee0e",
   "metadata": {},
   "source": [
    "The Autoregressive Integrated Moving Average (ARIMA) method models the next step in the sequence as a linear function of the differenced observations and residual errors at prior time steps.\n",
    "\n",
    "It combines both Autoregression (AR) and Moving Average (MA) models as well as a differencing pre-processing step of the sequence to make the sequence stationary, called integration (I).\n",
    "\n",
    "The notation for the model involves specifying the order for the AR(p), I(d), and MA(q) models as parameters to an ARIMA function, e.g. ARIMA(p, d, q). An ARIMA model can also be used to develop AR, MA, and ARMA models.\n",
    "\n",
    "The method is suitable for univariate time series with trend and without seasonal components"
   ]
  },
  {
   "cell_type": "code",
   "execution_count": 21,
   "id": "1cd89baa",
   "metadata": {},
   "outputs": [
    {
     "name": "stdout",
     "output_type": "stream",
     "text": [
      "[32.2853601]\n"
     ]
    }
   ],
   "source": [
    "# ARIMA example\n",
    "from statsmodels.tsa.arima.model import ARIMA\n",
    "# fit model\n",
    "model = ARIMA(data, order=(1, 1, 1))\n",
    "model_fit = model.fit()\n",
    "# make prediction\n",
    "yhat = model_fit.predict(len(data), len(data), typ='levels')\n",
    "print(yhat)"
   ]
  },
  {
   "cell_type": "code",
   "execution_count": 22,
   "id": "790ce003",
   "metadata": {},
   "outputs": [
    {
     "data": {
      "text/plain": [
       "array([-0.13808144])"
      ]
     },
     "execution_count": 22,
     "metadata": {},
     "output_type": "execute_result"
    }
   ],
   "source": [
    "# next day predicted change is\n",
    "forecast_percent_change = ((yhat/data[-1])-1)*100.0\n",
    "forecast_percent_change"
   ]
  },
  {
   "cell_type": "markdown",
   "id": "2068dde0",
   "metadata": {},
   "source": [
    "# Seasonal Autoregressive Integrated Moving-Average (SARIMA)"
   ]
  },
  {
   "cell_type": "markdown",
   "id": "49ea9365",
   "metadata": {},
   "source": [
    "The Seasonal Autoregressive Integrated Moving Average (SARIMA) method models the next step in the sequence as a linear function of the differenced observations, errors, differenced seasonal observations, and seasonal errors at prior time steps.\n",
    "\n",
    "It combines the ARIMA model with the ability to perform the same autoregression, differencing, and moving average modeling at the seasonal level.\n",
    "\n",
    "The notation for the model involves specifying the order for the AR(p), I(d), and MA(q) models as parameters to an ARIMA function and AR(P), I(D), MA(Q) and m parameters at the seasonal level, e.g. SARIMA(p, d, q)(P, D, Q)m where “m” is the number of time steps in each season (the seasonal period). A SARIMA model can be used to develop AR, MA, ARMA and ARIMA models.\n",
    "\n",
    "The method is suitable for univariate time series with trend and/or seasonal components."
   ]
  },
  {
   "cell_type": "code",
   "execution_count": 24,
   "id": "01e9165b",
   "metadata": {},
   "outputs": [
    {
     "name": "stdout",
     "output_type": "stream",
     "text": [
      "[32.2853601]\n"
     ]
    }
   ],
   "source": [
    "# SARIMA example\n",
    "from statsmodels.tsa.statespace.sarimax import SARIMAX\n",
    "# fit model\n",
    "model = SARIMAX(data, order=(1, 1, 1), seasonal_order=(0, 0, 0, 0))\n",
    "model_fit = model.fit(disp=False)\n",
    "# make prediction\n",
    "yhat = model_fit.predict(len(data), len(data))\n",
    "print(yhat)"
   ]
  },
  {
   "cell_type": "code",
   "execution_count": 25,
   "id": "83eca2f4",
   "metadata": {},
   "outputs": [
    {
     "data": {
      "text/plain": [
       "array([-0.13808144])"
      ]
     },
     "execution_count": 25,
     "metadata": {},
     "output_type": "execute_result"
    }
   ],
   "source": [
    "# next day predicted change is\n",
    "forecast_percent_change = ((yhat/data[-1])-1)*100.0\n",
    "forecast_percent_change"
   ]
  },
  {
   "cell_type": "markdown",
   "id": "93515c76",
   "metadata": {},
   "source": [
    "# Seasonal Autoregressive Integrated Moving-Average with Exogenous Regressors (SARIMAX)"
   ]
  },
  {
   "cell_type": "markdown",
   "id": "651525cd",
   "metadata": {},
   "source": [
    "The Seasonal Autoregressive Integrated Moving-Average with Exogenous Regressors (SARIMAX) is an extension of the SARIMA model that also includes the modeling of exogenous variables.\n",
    "\n",
    "Exogenous variables are also called covariates and can be thought of as parallel input sequences that have observations at the same time steps as the original series. The primary series may be referred to as endogenous data to contrast it from the exogenous sequence(s). The observations for exogenous variables are included in the model directly at each time step and are not modeled in the same way as the primary endogenous sequence (e.g. as an AR, MA, etc. process).\n",
    "\n",
    "The SARIMAX method can also be used to model the subsumed models with exogenous variables, such as ARX, MAX, ARMAX, and ARIMAX.\n",
    "\n",
    "The method is suitable for univariate time series with trend and/or seasonal components and exogenous variables."
   ]
  },
  {
   "cell_type": "code",
   "execution_count": 26,
   "id": "e8dafb77",
   "metadata": {},
   "outputs": [],
   "source": [
    "# Set the desired stock ticker symbol\n",
    "TICKER = 'SPY'\n",
    "# Set a start for historical analysis, end date is current day\n",
    "startDate = '1/1/2020'\n",
    "# populate a dataframe with historical data\n",
    "df = si.get_data(TICKER, start_date = startDate)\n",
    "data2 = df['adjclose'].values"
   ]
  },
  {
   "cell_type": "code",
   "execution_count": 28,
   "id": "b4715cd9",
   "metadata": {},
   "outputs": [
    {
     "name": "stdout",
     "output_type": "stream",
     "text": [
      "[32.41327384]\n"
     ]
    }
   ],
   "source": [
    "# fit model\n",
    "model = SARIMAX(data, exog=data2, order=(1, 1, 1), seasonal_order=(0, 0, 0, 0))\n",
    "model_fit = model.fit(disp=False)\n",
    "# make prediction\n",
    "# is this a good assumption?\n",
    "exog2 = data2[-1]\n",
    "yhat = model_fit.predict(len(data), len(data), exog=[exog2])\n",
    "print(yhat)"
   ]
  },
  {
   "cell_type": "code",
   "execution_count": 29,
   "id": "d90a988b",
   "metadata": {},
   "outputs": [
    {
     "data": {
      "text/plain": [
       "array([0.25756882])"
      ]
     },
     "execution_count": 29,
     "metadata": {},
     "output_type": "execute_result"
    }
   ],
   "source": [
    "# next day predicted change is\n",
    "forecast_percent_change = ((yhat/data[-1])-1)*100.0\n",
    "forecast_percent_change"
   ]
  },
  {
   "cell_type": "code",
   "execution_count": 30,
   "id": "4cf6509d",
   "metadata": {},
   "outputs": [
    {
     "name": "stdout",
     "output_type": "stream",
     "text": [
      "[444.69947377]\n"
     ]
    }
   ],
   "source": [
    "# what is we use SARMIA for data2 prediction?\n",
    "model = SARIMAX(data2, order=(1, 1, 1), seasonal_order=(0, 0, 0, 0))\n",
    "model_fit = model.fit(disp=False)\n",
    "# make prediction\n",
    "yhat2 = model_fit.predict(len(data2), len(data2))\n",
    "print(yhat2)"
   ]
  },
  {
   "cell_type": "code",
   "execution_count": 31,
   "id": "07a36183",
   "metadata": {},
   "outputs": [
    {
     "name": "stdout",
     "output_type": "stream",
     "text": [
      "[32.41876383]\n"
     ]
    }
   ],
   "source": [
    "# fit model with updated data2 prediction\n",
    "model = SARIMAX(data, exog=data2, order=(1, 1, 1), seasonal_order=(0, 0, 0, 0))\n",
    "model_fit = model.fit(disp=False)\n",
    "# make prediction\n",
    "# is this a good assumption?\n",
    "exog2 = yhat2\n",
    "yhat = model_fit.predict(len(data), len(data), exog=[exog2])\n",
    "print(yhat)"
   ]
  },
  {
   "cell_type": "code",
   "execution_count": 32,
   "id": "15bcd754",
   "metadata": {},
   "outputs": [
    {
     "data": {
      "text/plain": [
       "array([0.27454992])"
      ]
     },
     "execution_count": 32,
     "metadata": {},
     "output_type": "execute_result"
    }
   ],
   "source": [
    "# next day predicted change is\n",
    "forecast_percent_change = ((yhat/data[-1])-1)*100.0\n",
    "forecast_percent_change"
   ]
  },
  {
   "cell_type": "markdown",
   "id": "fa4323d2",
   "metadata": {},
   "source": [
    "# Vector Autoregression (VAR)"
   ]
  },
  {
   "cell_type": "markdown",
   "id": "78020212",
   "metadata": {},
   "source": [
    "The Vector Autoregression (VAR) method models the next step in each time series using an AR model. It is the generalization of AR to multiple parallel time series, e.g. multivariate time series.\n",
    "\n",
    "The notation for the model involves specifying the order for the AR(p) model as parameters to a VAR function, e.g. VAR(p).\n",
    "\n",
    "The method is suitable for multivariate time series without trend and seasonal components."
   ]
  },
  {
   "cell_type": "code",
   "execution_count": 33,
   "id": "d3f91578",
   "metadata": {},
   "outputs": [],
   "source": [
    "# VAR example\n",
    "from statsmodels.tsa.vector_ar.var_model import VAR"
   ]
  },
  {
   "cell_type": "code",
   "execution_count": 59,
   "id": "44de141e",
   "metadata": {},
   "outputs": [],
   "source": [
    "# for a second time series data_Set, let's use USO\n",
    "# Set the desired stock ticker symbol\n",
    "TICKER = 'USO'\n",
    "# Set a start for historical analysis, end date is current day\n",
    "startDate = '1/1/2020'\n",
    "# populate a dataframe with historical data\n",
    "df = si.get_data(TICKER, start_date = startDate)\n",
    "data3 = df['adjclose'].values"
   ]
  },
  {
   "cell_type": "code",
   "execution_count": 60,
   "id": "542006a2",
   "metadata": {},
   "outputs": [],
   "source": [
    "multivariate_data = list()\n",
    "for i in range(len(data)):\n",
    "    v1 = data[i]\n",
    "    v2 = data3[i]\n",
    "    row = [v1, v2]\n",
    "    multivariate_data.append(row)"
   ]
  },
  {
   "cell_type": "code",
   "execution_count": 61,
   "id": "8b341890",
   "metadata": {},
   "outputs": [
    {
     "name": "stdout",
     "output_type": "stream",
     "text": [
      "[[32.38460865 74.89542445]]\n"
     ]
    }
   ],
   "source": [
    "# fit model\n",
    "model = VAR(multivariate_data)\n",
    "model_fit = model.fit()\n",
    "# make prediction\n",
    "yhat = model_fit.forecast(model_fit.endog, steps=1)\n",
    "print(yhat)"
   ]
  },
  {
   "cell_type": "code",
   "execution_count": 62,
   "id": "1c8d3286",
   "metadata": {},
   "outputs": [
    {
     "data": {
      "text/plain": [
       "0.1689044865493372"
      ]
     },
     "execution_count": 62,
     "metadata": {},
     "output_type": "execute_result"
    }
   ],
   "source": [
    "# next day predicted change is\n",
    "forecast_percent_change = ((yhat[0][0]/data[-1])-1)*100.0\n",
    "forecast_percent_change"
   ]
  },
  {
   "cell_type": "markdown",
   "id": "4a64af8e",
   "metadata": {},
   "source": [
    "# Vector Autoregression Moving-Average (VARMA)"
   ]
  },
  {
   "cell_type": "markdown",
   "id": "70f17d99",
   "metadata": {},
   "source": [
    "The Vector Autoregression Moving-Average (VARMA) method models the next step in each time series using an ARMA model. It is the generalization of ARMA to multiple parallel time series, e.g. multivariate time series.\n",
    "\n",
    "The notation for the model involves specifying the order for the AR(p) and MA(q) models as parameters to a VARMA function, e.g. VARMA(p, q). A VARMA model can also be used to develop VAR or VMA models.\n",
    "\n",
    "The method is suitable for multivariate time series without trend and seasonal components."
   ]
  },
  {
   "cell_type": "code",
   "execution_count": 63,
   "id": "f49d1bab",
   "metadata": {},
   "outputs": [
    {
     "name": "stderr",
     "output_type": "stream",
     "text": [
      "C:\\Anaconda3\\lib\\site-packages\\statsmodels\\tsa\\statespace\\varmax.py:161: EstimationWarning: Estimation of VARMA(p,q) models is not generically robust, due especially to identification issues.\n",
      "  warn('Estimation of VARMA(p,q) models is not generically robust,'\n",
      "C:\\Anaconda3\\lib\\site-packages\\statsmodels\\base\\model.py:604: ConvergenceWarning: Maximum Likelihood optimization failed to converge. Check mle_retvals\n",
      "  warnings.warn(\"Maximum Likelihood optimization failed to \"\n"
     ]
    },
    {
     "name": "stdout",
     "output_type": "stream",
     "text": [
      "[[32.38076478 74.9642516 ]]\n"
     ]
    }
   ],
   "source": [
    "from statsmodels.tsa.statespace.varmax import VARMAX\n",
    "# fit model\n",
    "model = VARMAX(multivariate_data, order=(1, 1))\n",
    "model_fit = model.fit(disp=False)\n",
    "# make prediction\n",
    "yhat = model_fit.forecast()\n",
    "print(yhat)"
   ]
  },
  {
   "cell_type": "code",
   "execution_count": 64,
   "id": "9aa1bf9d",
   "metadata": {},
   "outputs": [
    {
     "data": {
      "text/plain": [
       "0.15701499866234148"
      ]
     },
     "execution_count": 64,
     "metadata": {},
     "output_type": "execute_result"
    }
   ],
   "source": [
    "# next day predicted change is\n",
    "forecast_percent_change = ((yhat[0][0]/data[-1])-1)*100.0\n",
    "forecast_percent_change"
   ]
  },
  {
   "cell_type": "markdown",
   "id": "707606b1",
   "metadata": {},
   "source": [
    "# Vector Autoregression Moving-Average with Exogenous Regressors (VARMAX)"
   ]
  },
  {
   "cell_type": "markdown",
   "id": "aab65b81",
   "metadata": {},
   "source": [
    "The Vector Autoregression Moving-Average with Exogenous Regressors (VARMAX) is an extension of the VARMA model that also includes the modeling of exogenous variables. It is a multivariate version of the ARMAX method.\n",
    "\n",
    "Exogenous variables are also called covariates and can be thought of as parallel input sequences that have observations at the same time steps as the original series. The primary series(es) are referred to as endogenous data to contrast it from the exogenous sequence(s). The observations for exogenous variables are included in the model directly at each time step and are not modeled in the same way as the primary endogenous sequence (e.g. as an AR, MA, etc. process).\n",
    "\n",
    "The VARMAX method can also be used to model the subsumed models with exogenous variables, such as VARX and VMAX.\n",
    "\n",
    "The method is suitable for multivariate time series without trend and seasonal components with exogenous variables."
   ]
  },
  {
   "cell_type": "code",
   "execution_count": 65,
   "id": "849463dd",
   "metadata": {},
   "outputs": [],
   "source": [
    "data_exog = data2"
   ]
  },
  {
   "cell_type": "code",
   "execution_count": 66,
   "id": "78cbd75d",
   "metadata": {},
   "outputs": [
    {
     "name": "stderr",
     "output_type": "stream",
     "text": [
      "C:\\Anaconda3\\lib\\site-packages\\statsmodels\\tsa\\statespace\\varmax.py:161: EstimationWarning: Estimation of VARMA(p,q) models is not generically robust, due especially to identification issues.\n",
      "  warn('Estimation of VARMA(p,q) models is not generically robust,'\n"
     ]
    },
    {
     "name": "stdout",
     "output_type": "stream",
     "text": [
      "[[32.27984945 74.7611296 ]]\n"
     ]
    },
    {
     "name": "stderr",
     "output_type": "stream",
     "text": [
      "C:\\Anaconda3\\lib\\site-packages\\statsmodels\\tsa\\statespace\\varmax.py:161: EstimationWarning: Estimation of VARMA(p,q) models is not generically robust, due especially to identification issues.\n",
      "  warn('Estimation of VARMA(p,q) models is not generically robust,'\n",
      "C:\\Anaconda3\\lib\\site-packages\\statsmodels\\tsa\\statespace\\varmax.py:161: EstimationWarning: Estimation of VARMA(p,q) models is not generically robust, due especially to identification issues.\n",
      "  warn('Estimation of VARMA(p,q) models is not generically robust,'\n"
     ]
    }
   ],
   "source": [
    "# fit model\n",
    "model = VARMAX(multivariate_data, exog=data_exog, order=(1, 1))\n",
    "model_fit = model.fit(disp=False)\n",
    "# make prediction\n",
    "data_exog2 = yhat2\n",
    "yhat = model_fit.forecast(exog=data_exog2)\n",
    "print(yhat)"
   ]
  },
  {
   "cell_type": "code",
   "execution_count": 67,
   "id": "f5765a11",
   "metadata": {},
   "outputs": [
    {
     "data": {
      "text/plain": [
       "-0.15512645241271272"
      ]
     },
     "execution_count": 67,
     "metadata": {},
     "output_type": "execute_result"
    }
   ],
   "source": [
    "# next day predicted change is\n",
    "forecast_percent_change = ((yhat[0][0]/data[-1])-1)*100.0\n",
    "forecast_percent_change"
   ]
  },
  {
   "cell_type": "markdown",
   "id": "39d9421b",
   "metadata": {},
   "source": [
    "# Simple Exponential Smoothing (SES)"
   ]
  },
  {
   "cell_type": "markdown",
   "id": "28dc1e11",
   "metadata": {},
   "source": [
    "The Simple Exponential Smoothing (SES) method models the next time step as an exponentially weighted linear function of observations at prior time steps.\n",
    "\n",
    "The method is suitable for univariate time series without trend and seasonal components."
   ]
  },
  {
   "cell_type": "code",
   "execution_count": 69,
   "id": "6a614504",
   "metadata": {},
   "outputs": [
    {
     "name": "stdout",
     "output_type": "stream",
     "text": [
      "[32.33000183]\n"
     ]
    }
   ],
   "source": [
    "from statsmodels.tsa.holtwinters import SimpleExpSmoothing\n",
    "# fit model\n",
    "model = SimpleExpSmoothing(data)\n",
    "model_fit = model.fit()\n",
    "# make prediction\n",
    "yhat = model_fit.predict(len(data), len(data))\n",
    "print(yhat)"
   ]
  },
  {
   "cell_type": "code",
   "execution_count": 71,
   "id": "9c9bcf3f",
   "metadata": {},
   "outputs": [
    {
     "data": {
      "text/plain": [
       "0.0"
      ]
     },
     "execution_count": 71,
     "metadata": {},
     "output_type": "execute_result"
    }
   ],
   "source": [
    "# next day predicted change is\n",
    "forecast_percent_change = ((yhat[0]/data[-1])-1)*100.0\n",
    "forecast_percent_change"
   ]
  },
  {
   "cell_type": "markdown",
   "id": "cbf0a07b",
   "metadata": {},
   "source": [
    "# Holt Winter’s Exponential Smoothing (HWES)"
   ]
  },
  {
   "cell_type": "markdown",
   "id": "95a5d525",
   "metadata": {},
   "source": [
    "The Holt Winter’s Exponential Smoothing (HWES) also called the Triple Exponential Smoothing method models the next time step as an exponentially weighted linear function of observations at prior time steps, taking trends and seasonality into account.\n",
    "\n",
    "The method is suitable for univariate time series with trend and/or seasonal components"
   ]
  },
  {
   "cell_type": "code",
   "execution_count": 73,
   "id": "bdd56ada",
   "metadata": {},
   "outputs": [
    {
     "name": "stdout",
     "output_type": "stream",
     "text": [
      "[32.33000183]\n"
     ]
    }
   ],
   "source": [
    "from statsmodels.tsa.holtwinters import ExponentialSmoothing\n",
    "# fit model\n",
    "model = ExponentialSmoothing(data)\n",
    "model_fit = model.fit()\n",
    "# make prediction\n",
    "yhat = model_fit.predict(len(data), len(data))\n",
    "print(yhat)"
   ]
  },
  {
   "cell_type": "code",
   "execution_count": 74,
   "id": "faaeb94a",
   "metadata": {},
   "outputs": [
    {
     "data": {
      "text/plain": [
       "-2.220446049250313e-14"
      ]
     },
     "execution_count": 74,
     "metadata": {},
     "output_type": "execute_result"
    }
   ],
   "source": [
    "# next day predicted change is\n",
    "forecast_percent_change = ((yhat[0]/data[-1])-1)*100.0\n",
    "forecast_percent_change"
   ]
  },
  {
   "cell_type": "code",
   "execution_count": null,
   "id": "86149219",
   "metadata": {},
   "outputs": [],
   "source": []
  }
 ],
 "metadata": {
  "kernelspec": {
   "display_name": "Python 3 (ipykernel)",
   "language": "python",
   "name": "python3"
  },
  "language_info": {
   "codemirror_mode": {
    "name": "ipython",
    "version": 3
   },
   "file_extension": ".py",
   "mimetype": "text/x-python",
   "name": "python",
   "nbconvert_exporter": "python",
   "pygments_lexer": "ipython3",
   "version": "3.9.13"
  }
 },
 "nbformat": 4,
 "nbformat_minor": 5
}
